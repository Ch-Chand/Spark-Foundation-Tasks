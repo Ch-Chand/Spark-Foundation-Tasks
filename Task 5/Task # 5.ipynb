{
 "cells": [
  {
   "cell_type": "markdown",
   "metadata": {},
   "source": [
    "# Task No 5 - EDA on ILP data"
   ]
  },
  {
   "cell_type": "markdown",
   "metadata": {},
   "source": [
    "Main aim of this task is to find out the most successful teams, players and factors contributing win or loss of a team."
   ]
  },
  {
   "cell_type": "markdown",
   "metadata": {},
   "source": [
    "**Author : Shahzad Abbas**"
   ]
  },
  {
   "cell_type": "code",
   "execution_count": 92,
   "metadata": {},
   "outputs": [],
   "source": [
    "import numpy as np\n",
    "import pandas as pd\n",
    "import seaborn as sns\n",
    "import plotly.express as px\n",
    "import matplotlib.pyplot as plt\n",
    "%matplotlib inline"
   ]
  },
  {
   "cell_type": "code",
   "execution_count": 93,
   "metadata": {},
   "outputs": [],
   "source": [
    "from matplotlib.pylab import rcParams\n",
    "rcParams['figure.figsize'] = (12, 6)"
   ]
  },
  {
   "cell_type": "code",
   "execution_count": 94,
   "metadata": {},
   "outputs": [],
   "source": [
    "import warnings\n",
    "warnings.simplefilter(action='ignore', category=FutureWarning)"
   ]
  },
  {
   "cell_type": "markdown",
   "metadata": {},
   "source": [
    "### Loading Data"
   ]
  },
  {
   "cell_type": "code",
   "execution_count": 95,
   "metadata": {},
   "outputs": [
    {
     "data": {
      "text/html": [
       "<div>\n",
       "<style scoped>\n",
       "    .dataframe tbody tr th:only-of-type {\n",
       "        vertical-align: middle;\n",
       "    }\n",
       "\n",
       "    .dataframe tbody tr th {\n",
       "        vertical-align: top;\n",
       "    }\n",
       "\n",
       "    .dataframe thead th {\n",
       "        text-align: right;\n",
       "    }\n",
       "</style>\n",
       "<table border=\"1\" class=\"dataframe\">\n",
       "  <thead>\n",
       "    <tr style=\"text-align: right;\">\n",
       "      <th></th>\n",
       "      <th>season</th>\n",
       "      <th>city</th>\n",
       "      <th>date</th>\n",
       "      <th>team1</th>\n",
       "      <th>team2</th>\n",
       "      <th>toss_winner</th>\n",
       "      <th>toss_decision</th>\n",
       "      <th>result</th>\n",
       "      <th>dl_applied</th>\n",
       "      <th>winner</th>\n",
       "      <th>win_by_runs</th>\n",
       "      <th>win_by_wickets</th>\n",
       "      <th>player_of_match</th>\n",
       "      <th>venue</th>\n",
       "      <th>umpire1</th>\n",
       "      <th>umpire2</th>\n",
       "      <th>umpire3</th>\n",
       "    </tr>\n",
       "    <tr>\n",
       "      <th>id</th>\n",
       "      <th></th>\n",
       "      <th></th>\n",
       "      <th></th>\n",
       "      <th></th>\n",
       "      <th></th>\n",
       "      <th></th>\n",
       "      <th></th>\n",
       "      <th></th>\n",
       "      <th></th>\n",
       "      <th></th>\n",
       "      <th></th>\n",
       "      <th></th>\n",
       "      <th></th>\n",
       "      <th></th>\n",
       "      <th></th>\n",
       "      <th></th>\n",
       "      <th></th>\n",
       "    </tr>\n",
       "  </thead>\n",
       "  <tbody>\n",
       "    <tr>\n",
       "      <th>1</th>\n",
       "      <td>2017</td>\n",
       "      <td>Hyderabad</td>\n",
       "      <td>2017-04-05</td>\n",
       "      <td>Sunrisers Hyderabad</td>\n",
       "      <td>Royal Challengers Bangalore</td>\n",
       "      <td>Royal Challengers Bangalore</td>\n",
       "      <td>field</td>\n",
       "      <td>normal</td>\n",
       "      <td>0</td>\n",
       "      <td>Sunrisers Hyderabad</td>\n",
       "      <td>35</td>\n",
       "      <td>0</td>\n",
       "      <td>Yuvraj Singh</td>\n",
       "      <td>Rajiv Gandhi International Stadium, Uppal</td>\n",
       "      <td>AY Dandekar</td>\n",
       "      <td>NJ Llong</td>\n",
       "      <td>NaN</td>\n",
       "    </tr>\n",
       "    <tr>\n",
       "      <th>2</th>\n",
       "      <td>2017</td>\n",
       "      <td>Pune</td>\n",
       "      <td>2017-04-06</td>\n",
       "      <td>Mumbai Indians</td>\n",
       "      <td>Rising Pune Supergiant</td>\n",
       "      <td>Rising Pune Supergiant</td>\n",
       "      <td>field</td>\n",
       "      <td>normal</td>\n",
       "      <td>0</td>\n",
       "      <td>Rising Pune Supergiant</td>\n",
       "      <td>0</td>\n",
       "      <td>7</td>\n",
       "      <td>SPD Smith</td>\n",
       "      <td>Maharashtra Cricket Association Stadium</td>\n",
       "      <td>A Nand Kishore</td>\n",
       "      <td>S Ravi</td>\n",
       "      <td>NaN</td>\n",
       "    </tr>\n",
       "    <tr>\n",
       "      <th>3</th>\n",
       "      <td>2017</td>\n",
       "      <td>Rajkot</td>\n",
       "      <td>2017-04-07</td>\n",
       "      <td>Gujarat Lions</td>\n",
       "      <td>Kolkata Knight Riders</td>\n",
       "      <td>Kolkata Knight Riders</td>\n",
       "      <td>field</td>\n",
       "      <td>normal</td>\n",
       "      <td>0</td>\n",
       "      <td>Kolkata Knight Riders</td>\n",
       "      <td>0</td>\n",
       "      <td>10</td>\n",
       "      <td>CA Lynn</td>\n",
       "      <td>Saurashtra Cricket Association Stadium</td>\n",
       "      <td>Nitin Menon</td>\n",
       "      <td>CK Nandan</td>\n",
       "      <td>NaN</td>\n",
       "    </tr>\n",
       "    <tr>\n",
       "      <th>4</th>\n",
       "      <td>2017</td>\n",
       "      <td>Indore</td>\n",
       "      <td>2017-04-08</td>\n",
       "      <td>Rising Pune Supergiant</td>\n",
       "      <td>Kings XI Punjab</td>\n",
       "      <td>Kings XI Punjab</td>\n",
       "      <td>field</td>\n",
       "      <td>normal</td>\n",
       "      <td>0</td>\n",
       "      <td>Kings XI Punjab</td>\n",
       "      <td>0</td>\n",
       "      <td>6</td>\n",
       "      <td>GJ Maxwell</td>\n",
       "      <td>Holkar Cricket Stadium</td>\n",
       "      <td>AK Chaudhary</td>\n",
       "      <td>C Shamshuddin</td>\n",
       "      <td>NaN</td>\n",
       "    </tr>\n",
       "    <tr>\n",
       "      <th>5</th>\n",
       "      <td>2017</td>\n",
       "      <td>Bangalore</td>\n",
       "      <td>2017-04-08</td>\n",
       "      <td>Royal Challengers Bangalore</td>\n",
       "      <td>Delhi Daredevils</td>\n",
       "      <td>Royal Challengers Bangalore</td>\n",
       "      <td>bat</td>\n",
       "      <td>normal</td>\n",
       "      <td>0</td>\n",
       "      <td>Royal Challengers Bangalore</td>\n",
       "      <td>15</td>\n",
       "      <td>0</td>\n",
       "      <td>KM Jadhav</td>\n",
       "      <td>M Chinnaswamy Stadium</td>\n",
       "      <td>NaN</td>\n",
       "      <td>NaN</td>\n",
       "      <td>NaN</td>\n",
       "    </tr>\n",
       "  </tbody>\n",
       "</table>\n",
       "</div>"
      ],
      "text/plain": [
       "    season       city        date                        team1  \\\n",
       "id                                                               \n",
       "1     2017  Hyderabad  2017-04-05          Sunrisers Hyderabad   \n",
       "2     2017       Pune  2017-04-06               Mumbai Indians   \n",
       "3     2017     Rajkot  2017-04-07                Gujarat Lions   \n",
       "4     2017     Indore  2017-04-08       Rising Pune Supergiant   \n",
       "5     2017  Bangalore  2017-04-08  Royal Challengers Bangalore   \n",
       "\n",
       "                          team2                  toss_winner toss_decision  \\\n",
       "id                                                                           \n",
       "1   Royal Challengers Bangalore  Royal Challengers Bangalore         field   \n",
       "2        Rising Pune Supergiant       Rising Pune Supergiant         field   \n",
       "3         Kolkata Knight Riders        Kolkata Knight Riders         field   \n",
       "4               Kings XI Punjab              Kings XI Punjab         field   \n",
       "5              Delhi Daredevils  Royal Challengers Bangalore           bat   \n",
       "\n",
       "    result  dl_applied                       winner  win_by_runs  \\\n",
       "id                                                                 \n",
       "1   normal           0          Sunrisers Hyderabad           35   \n",
       "2   normal           0       Rising Pune Supergiant            0   \n",
       "3   normal           0        Kolkata Knight Riders            0   \n",
       "4   normal           0              Kings XI Punjab            0   \n",
       "5   normal           0  Royal Challengers Bangalore           15   \n",
       "\n",
       "    win_by_wickets player_of_match                                      venue  \\\n",
       "id                                                                              \n",
       "1                0    Yuvraj Singh  Rajiv Gandhi International Stadium, Uppal   \n",
       "2                7       SPD Smith    Maharashtra Cricket Association Stadium   \n",
       "3               10         CA Lynn     Saurashtra Cricket Association Stadium   \n",
       "4                6      GJ Maxwell                     Holkar Cricket Stadium   \n",
       "5                0       KM Jadhav                      M Chinnaswamy Stadium   \n",
       "\n",
       "           umpire1        umpire2 umpire3  \n",
       "id                                         \n",
       "1      AY Dandekar       NJ Llong     NaN  \n",
       "2   A Nand Kishore         S Ravi     NaN  \n",
       "3      Nitin Menon      CK Nandan     NaN  \n",
       "4     AK Chaudhary  C Shamshuddin     NaN  \n",
       "5              NaN            NaN     NaN  "
      ]
     },
     "execution_count": 95,
     "metadata": {},
     "output_type": "execute_result"
    }
   ],
   "source": [
    "path1 = r\"D:\\CHAND's DATA\\Study data\\Additional Work\\Data Science\\Spark Foundation Internship\\Task 5\\deliveries.csv\"\n",
    "path2 = r\"D:\\CHAND's DATA\\Study data\\Additional Work\\Data Science\\Spark Foundation Internship\\Task 5\\matches.csv\"\n",
    "df_del = pd.read_csv(path1)\n",
    "df_mat = pd.read_csv(path2, index_col=\"id\")\n",
    "df_mat.head()"
   ]
  },
  {
   "cell_type": "code",
   "execution_count": 96,
   "metadata": {},
   "outputs": [
    {
     "data": {
      "text/plain": [
       "(756, 17)"
      ]
     },
     "execution_count": 96,
     "metadata": {},
     "output_type": "execute_result"
    }
   ],
   "source": [
    "df_mat.shape"
   ]
  },
  {
   "cell_type": "code",
   "execution_count": 97,
   "metadata": {},
   "outputs": [
    {
     "data": {
      "text/html": [
       "<div>\n",
       "<style scoped>\n",
       "    .dataframe tbody tr th:only-of-type {\n",
       "        vertical-align: middle;\n",
       "    }\n",
       "\n",
       "    .dataframe tbody tr th {\n",
       "        vertical-align: top;\n",
       "    }\n",
       "\n",
       "    .dataframe thead th {\n",
       "        text-align: right;\n",
       "    }\n",
       "</style>\n",
       "<table border=\"1\" class=\"dataframe\">\n",
       "  <thead>\n",
       "    <tr style=\"text-align: right;\">\n",
       "      <th></th>\n",
       "      <th>season</th>\n",
       "      <th>dl_applied</th>\n",
       "      <th>win_by_runs</th>\n",
       "      <th>win_by_wickets</th>\n",
       "    </tr>\n",
       "  </thead>\n",
       "  <tbody>\n",
       "    <tr>\n",
       "      <th>count</th>\n",
       "      <td>756.000000</td>\n",
       "      <td>756.000000</td>\n",
       "      <td>756.000000</td>\n",
       "      <td>756.000000</td>\n",
       "    </tr>\n",
       "    <tr>\n",
       "      <th>mean</th>\n",
       "      <td>2013.444444</td>\n",
       "      <td>0.025132</td>\n",
       "      <td>13.283069</td>\n",
       "      <td>3.350529</td>\n",
       "    </tr>\n",
       "    <tr>\n",
       "      <th>std</th>\n",
       "      <td>3.366895</td>\n",
       "      <td>0.156630</td>\n",
       "      <td>23.471144</td>\n",
       "      <td>3.387963</td>\n",
       "    </tr>\n",
       "    <tr>\n",
       "      <th>min</th>\n",
       "      <td>2008.000000</td>\n",
       "      <td>0.000000</td>\n",
       "      <td>0.000000</td>\n",
       "      <td>0.000000</td>\n",
       "    </tr>\n",
       "    <tr>\n",
       "      <th>25%</th>\n",
       "      <td>2011.000000</td>\n",
       "      <td>0.000000</td>\n",
       "      <td>0.000000</td>\n",
       "      <td>0.000000</td>\n",
       "    </tr>\n",
       "    <tr>\n",
       "      <th>50%</th>\n",
       "      <td>2013.000000</td>\n",
       "      <td>0.000000</td>\n",
       "      <td>0.000000</td>\n",
       "      <td>4.000000</td>\n",
       "    </tr>\n",
       "    <tr>\n",
       "      <th>75%</th>\n",
       "      <td>2016.000000</td>\n",
       "      <td>0.000000</td>\n",
       "      <td>19.000000</td>\n",
       "      <td>6.000000</td>\n",
       "    </tr>\n",
       "    <tr>\n",
       "      <th>max</th>\n",
       "      <td>2019.000000</td>\n",
       "      <td>1.000000</td>\n",
       "      <td>146.000000</td>\n",
       "      <td>10.000000</td>\n",
       "    </tr>\n",
       "  </tbody>\n",
       "</table>\n",
       "</div>"
      ],
      "text/plain": [
       "            season  dl_applied  win_by_runs  win_by_wickets\n",
       "count   756.000000  756.000000   756.000000      756.000000\n",
       "mean   2013.444444    0.025132    13.283069        3.350529\n",
       "std       3.366895    0.156630    23.471144        3.387963\n",
       "min    2008.000000    0.000000     0.000000        0.000000\n",
       "25%    2011.000000    0.000000     0.000000        0.000000\n",
       "50%    2013.000000    0.000000     0.000000        4.000000\n",
       "75%    2016.000000    0.000000    19.000000        6.000000\n",
       "max    2019.000000    1.000000   146.000000       10.000000"
      ]
     },
     "execution_count": 97,
     "metadata": {},
     "output_type": "execute_result"
    }
   ],
   "source": [
    "df_mat.describe()"
   ]
  },
  {
   "cell_type": "code",
   "execution_count": 98,
   "metadata": {},
   "outputs": [
    {
     "name": "stdout",
     "output_type": "stream",
     "text": [
      "<class 'pandas.core.frame.DataFrame'>\n",
      "Int64Index: 756 entries, 1 to 11415\n",
      "Data columns (total 17 columns):\n",
      " #   Column           Non-Null Count  Dtype \n",
      "---  ------           --------------  ----- \n",
      " 0   season           756 non-null    int64 \n",
      " 1   city             749 non-null    object\n",
      " 2   date             756 non-null    object\n",
      " 3   team1            756 non-null    object\n",
      " 4   team2            756 non-null    object\n",
      " 5   toss_winner      756 non-null    object\n",
      " 6   toss_decision    756 non-null    object\n",
      " 7   result           756 non-null    object\n",
      " 8   dl_applied       756 non-null    int64 \n",
      " 9   winner           752 non-null    object\n",
      " 10  win_by_runs      756 non-null    int64 \n",
      " 11  win_by_wickets   756 non-null    int64 \n",
      " 12  player_of_match  752 non-null    object\n",
      " 13  venue            756 non-null    object\n",
      " 14  umpire1          754 non-null    object\n",
      " 15  umpire2          754 non-null    object\n",
      " 16  umpire3          119 non-null    object\n",
      "dtypes: int64(4), object(13)\n",
      "memory usage: 106.3+ KB\n"
     ]
    }
   ],
   "source": [
    "df_mat.info()"
   ]
  },
  {
   "cell_type": "markdown",
   "metadata": {},
   "source": [
    "## Data Preprocessing"
   ]
  },
  {
   "cell_type": "code",
   "execution_count": 99,
   "metadata": {},
   "outputs": [
    {
     "data": {
      "text/plain": [
       "season               0\n",
       "city                 7\n",
       "date                 0\n",
       "team1                0\n",
       "team2                0\n",
       "toss_winner          0\n",
       "toss_decision        0\n",
       "result               0\n",
       "dl_applied           0\n",
       "winner               4\n",
       "win_by_runs          0\n",
       "win_by_wickets       0\n",
       "player_of_match      4\n",
       "venue                0\n",
       "umpire1              2\n",
       "umpire2              2\n",
       "umpire3            637\n",
       "dtype: int64"
      ]
     },
     "execution_count": 99,
     "metadata": {},
     "output_type": "execute_result"
    }
   ],
   "source": [
    "df_mat.isnull().sum()"
   ]
  },
  {
   "cell_type": "code",
   "execution_count": 100,
   "metadata": {},
   "outputs": [],
   "source": [
    "df_mat.drop(\"umpire3\", axis=1, inplace=True)"
   ]
  },
  {
   "cell_type": "code",
   "execution_count": 101,
   "metadata": {},
   "outputs": [],
   "source": [
    "df_mat.dropna(inplace=True)"
   ]
  },
  {
   "cell_type": "code",
   "execution_count": 102,
   "metadata": {},
   "outputs": [
    {
     "data": {
      "text/plain": [
       "(743, 16)"
      ]
     },
     "execution_count": 102,
     "metadata": {},
     "output_type": "execute_result"
    }
   ],
   "source": [
    "df_mat.shape"
   ]
  },
  {
   "cell_type": "markdown",
   "metadata": {},
   "source": [
    "In cleaning process we just lost 12 entries."
   ]
  },
  {
   "cell_type": "markdown",
   "metadata": {},
   "source": [
    "## Analysis"
   ]
  },
  {
   "cell_type": "code",
   "execution_count": 103,
   "metadata": {},
   "outputs": [],
   "source": [
    "def per_on_bar(plot,feature):\n",
    "    total = len(feature)\n",
    "    for p in plot.patches:\n",
    "        percentage = '{:.1f}%'.format(100 * p.get_height()/total)\n",
    "        x = p.get_x() + p.get_width() / 2 - 0.08\n",
    "        y = p.get_y() + p.get_height()\n",
    "        ax.annotate(percentage, (x, y), size = 12)\n",
    "    plt.show()"
   ]
  },
  {
   "cell_type": "code",
   "execution_count": 104,
   "metadata": {},
   "outputs": [
    {
     "data": {
      "application/vnd.plotly.v1+json": {
       "config": {
        "plotlyServerURL": "https://plot.ly"
       },
       "data": [
        {
         "customdata": [
          [
           2017
          ],
          [
           2017
          ],
          [
           2017
          ],
          [
           2017
          ],
          [
           2017
          ],
          [
           2017
          ],
          [
           2017
          ],
          [
           2017
          ],
          [
           2017
          ],
          [
           2017
          ],
          [
           2017
          ],
          [
           2017
          ],
          [
           2017
          ],
          [
           2017
          ],
          [
           2017
          ],
          [
           2017
          ],
          [
           2017
          ],
          [
           2017
          ],
          [
           2017
          ],
          [
           2017
          ],
          [
           2017
          ],
          [
           2017
          ],
          [
           2017
          ],
          [
           2017
          ],
          [
           2017
          ],
          [
           2017
          ],
          [
           2017
          ],
          [
           2017
          ],
          [
           2017
          ],
          [
           2017
          ],
          [
           2017
          ],
          [
           2017
          ],
          [
           2017
          ],
          [
           2017
          ],
          [
           2017
          ],
          [
           2017
          ],
          [
           2017
          ],
          [
           2017
          ],
          [
           2017
          ],
          [
           2017
          ],
          [
           2017
          ],
          [
           2017
          ],
          [
           2017
          ],
          [
           2017
          ],
          [
           2017
          ],
          [
           2017
          ],
          [
           2017
          ],
          [
           2017
          ],
          [
           2017
          ],
          [
           2017
          ],
          [
           2017
          ],
          [
           2017
          ],
          [
           2017
          ],
          [
           2017
          ],
          [
           2017
          ],
          [
           2017
          ],
          [
           2017
          ],
          [
           2017
          ],
          [
           2008
          ],
          [
           2008
          ],
          [
           2008
          ],
          [
           2008
          ],
          [
           2008
          ],
          [
           2008
          ],
          [
           2008
          ],
          [
           2008
          ],
          [
           2008
          ],
          [
           2008
          ],
          [
           2008
          ],
          [
           2008
          ],
          [
           2008
          ],
          [
           2008
          ],
          [
           2008
          ],
          [
           2008
          ],
          [
           2008
          ],
          [
           2008
          ],
          [
           2008
          ],
          [
           2008
          ],
          [
           2008
          ],
          [
           2008
          ],
          [
           2008
          ],
          [
           2008
          ],
          [
           2008
          ],
          [
           2008
          ],
          [
           2008
          ],
          [
           2008
          ],
          [
           2008
          ],
          [
           2008
          ],
          [
           2008
          ],
          [
           2008
          ],
          [
           2008
          ],
          [
           2008
          ],
          [
           2008
          ],
          [
           2008
          ],
          [
           2008
          ],
          [
           2008
          ],
          [
           2008
          ],
          [
           2008
          ],
          [
           2008
          ],
          [
           2008
          ],
          [
           2008
          ],
          [
           2008
          ],
          [
           2008
          ],
          [
           2008
          ],
          [
           2008
          ],
          [
           2008
          ],
          [
           2008
          ],
          [
           2008
          ],
          [
           2008
          ],
          [
           2008
          ],
          [
           2008
          ],
          [
           2008
          ],
          [
           2008
          ],
          [
           2008
          ],
          [
           2008
          ],
          [
           2008
          ],
          [
           2009
          ],
          [
           2009
          ],
          [
           2009
          ],
          [
           2009
          ],
          [
           2009
          ],
          [
           2009
          ],
          [
           2009
          ],
          [
           2009
          ],
          [
           2009
          ],
          [
           2009
          ],
          [
           2009
          ],
          [
           2009
          ],
          [
           2009
          ],
          [
           2009
          ],
          [
           2009
          ],
          [
           2009
          ],
          [
           2009
          ],
          [
           2009
          ],
          [
           2009
          ],
          [
           2009
          ],
          [
           2009
          ],
          [
           2009
          ],
          [
           2009
          ],
          [
           2009
          ],
          [
           2009
          ],
          [
           2009
          ],
          [
           2009
          ],
          [
           2009
          ],
          [
           2009
          ],
          [
           2009
          ],
          [
           2009
          ],
          [
           2009
          ],
          [
           2009
          ],
          [
           2009
          ],
          [
           2009
          ],
          [
           2009
          ],
          [
           2009
          ],
          [
           2009
          ],
          [
           2009
          ],
          [
           2009
          ],
          [
           2009
          ],
          [
           2009
          ],
          [
           2009
          ],
          [
           2009
          ],
          [
           2009
          ],
          [
           2009
          ],
          [
           2009
          ],
          [
           2009
          ],
          [
           2009
          ],
          [
           2009
          ],
          [
           2009
          ],
          [
           2009
          ],
          [
           2009
          ],
          [
           2009
          ],
          [
           2009
          ],
          [
           2009
          ],
          [
           2009
          ],
          [
           2010
          ],
          [
           2010
          ],
          [
           2010
          ],
          [
           2010
          ],
          [
           2010
          ],
          [
           2010
          ],
          [
           2010
          ],
          [
           2010
          ],
          [
           2010
          ],
          [
           2010
          ],
          [
           2010
          ],
          [
           2010
          ],
          [
           2010
          ],
          [
           2010
          ],
          [
           2010
          ],
          [
           2010
          ],
          [
           2010
          ],
          [
           2010
          ],
          [
           2010
          ],
          [
           2010
          ],
          [
           2010
          ],
          [
           2010
          ],
          [
           2010
          ],
          [
           2010
          ],
          [
           2010
          ],
          [
           2010
          ],
          [
           2010
          ],
          [
           2010
          ],
          [
           2010
          ],
          [
           2010
          ],
          [
           2010
          ],
          [
           2010
          ],
          [
           2010
          ],
          [
           2010
          ],
          [
           2010
          ],
          [
           2010
          ],
          [
           2010
          ],
          [
           2010
          ],
          [
           2010
          ],
          [
           2010
          ],
          [
           2010
          ],
          [
           2010
          ],
          [
           2010
          ],
          [
           2010
          ],
          [
           2010
          ],
          [
           2010
          ],
          [
           2010
          ],
          [
           2010
          ],
          [
           2010
          ],
          [
           2010
          ],
          [
           2010
          ],
          [
           2010
          ],
          [
           2010
          ],
          [
           2010
          ],
          [
           2010
          ],
          [
           2010
          ],
          [
           2010
          ],
          [
           2010
          ],
          [
           2010
          ],
          [
           2010
          ],
          [
           2011
          ],
          [
           2011
          ],
          [
           2011
          ],
          [
           2011
          ],
          [
           2011
          ],
          [
           2011
          ],
          [
           2011
          ],
          [
           2011
          ],
          [
           2011
          ],
          [
           2011
          ],
          [
           2011
          ],
          [
           2011
          ],
          [
           2011
          ],
          [
           2011
          ],
          [
           2011
          ],
          [
           2011
          ],
          [
           2011
          ],
          [
           2011
          ],
          [
           2011
          ],
          [
           2011
          ],
          [
           2011
          ],
          [
           2011
          ],
          [
           2011
          ],
          [
           2011
          ],
          [
           2011
          ],
          [
           2011
          ],
          [
           2011
          ],
          [
           2011
          ],
          [
           2011
          ],
          [
           2011
          ],
          [
           2011
          ],
          [
           2011
          ],
          [
           2011
          ],
          [
           2011
          ],
          [
           2011
          ],
          [
           2011
          ],
          [
           2011
          ],
          [
           2011
          ],
          [
           2011
          ],
          [
           2011
          ],
          [
           2011
          ],
          [
           2011
          ],
          [
           2011
          ],
          [
           2011
          ],
          [
           2011
          ],
          [
           2011
          ],
          [
           2011
          ],
          [
           2011
          ],
          [
           2011
          ],
          [
           2011
          ],
          [
           2011
          ],
          [
           2011
          ],
          [
           2011
          ],
          [
           2011
          ],
          [
           2011
          ],
          [
           2011
          ],
          [
           2011
          ],
          [
           2011
          ],
          [
           2011
          ],
          [
           2011
          ],
          [
           2011
          ],
          [
           2011
          ],
          [
           2011
          ],
          [
           2011
          ],
          [
           2011
          ],
          [
           2011
          ],
          [
           2011
          ],
          [
           2011
          ],
          [
           2011
          ],
          [
           2011
          ],
          [
           2011
          ],
          [
           2011
          ],
          [
           2012
          ],
          [
           2012
          ],
          [
           2012
          ],
          [
           2012
          ],
          [
           2012
          ],
          [
           2012
          ],
          [
           2012
          ],
          [
           2012
          ],
          [
           2012
          ],
          [
           2012
          ],
          [
           2012
          ],
          [
           2012
          ],
          [
           2012
          ],
          [
           2012
          ],
          [
           2012
          ],
          [
           2012
          ],
          [
           2012
          ],
          [
           2012
          ],
          [
           2012
          ],
          [
           2012
          ],
          [
           2012
          ],
          [
           2012
          ],
          [
           2012
          ],
          [
           2012
          ],
          [
           2012
          ],
          [
           2012
          ],
          [
           2012
          ],
          [
           2012
          ],
          [
           2012
          ],
          [
           2012
          ],
          [
           2012
          ],
          [
           2012
          ],
          [
           2012
          ],
          [
           2012
          ],
          [
           2012
          ],
          [
           2012
          ],
          [
           2012
          ],
          [
           2012
          ],
          [
           2012
          ],
          [
           2012
          ],
          [
           2012
          ],
          [
           2012
          ],
          [
           2012
          ],
          [
           2012
          ],
          [
           2012
          ],
          [
           2012
          ],
          [
           2012
          ],
          [
           2012
          ],
          [
           2012
          ],
          [
           2012
          ],
          [
           2012
          ],
          [
           2012
          ],
          [
           2012
          ],
          [
           2012
          ],
          [
           2012
          ],
          [
           2012
          ],
          [
           2012
          ],
          [
           2012
          ],
          [
           2012
          ],
          [
           2012
          ],
          [
           2012
          ],
          [
           2012
          ],
          [
           2012
          ],
          [
           2012
          ],
          [
           2012
          ],
          [
           2012
          ],
          [
           2012
          ],
          [
           2012
          ],
          [
           2012
          ],
          [
           2012
          ],
          [
           2012
          ],
          [
           2012
          ],
          [
           2012
          ],
          [
           2012
          ],
          [
           2013
          ],
          [
           2013
          ],
          [
           2013
          ],
          [
           2013
          ],
          [
           2013
          ],
          [
           2013
          ],
          [
           2013
          ],
          [
           2013
          ],
          [
           2013
          ],
          [
           2013
          ],
          [
           2013
          ],
          [
           2013
          ],
          [
           2013
          ],
          [
           2013
          ],
          [
           2013
          ],
          [
           2013
          ],
          [
           2013
          ],
          [
           2013
          ],
          [
           2013
          ],
          [
           2013
          ],
          [
           2013
          ],
          [
           2013
          ],
          [
           2013
          ],
          [
           2013
          ],
          [
           2013
          ],
          [
           2013
          ],
          [
           2013
          ],
          [
           2013
          ],
          [
           2013
          ],
          [
           2013
          ],
          [
           2013
          ],
          [
           2013
          ],
          [
           2013
          ],
          [
           2013
          ],
          [
           2013
          ],
          [
           2013
          ],
          [
           2013
          ],
          [
           2013
          ],
          [
           2013
          ],
          [
           2013
          ],
          [
           2013
          ],
          [
           2013
          ],
          [
           2013
          ],
          [
           2013
          ],
          [
           2013
          ],
          [
           2013
          ],
          [
           2013
          ],
          [
           2013
          ],
          [
           2013
          ],
          [
           2013
          ],
          [
           2013
          ],
          [
           2013
          ],
          [
           2013
          ],
          [
           2013
          ],
          [
           2013
          ],
          [
           2013
          ],
          [
           2013
          ],
          [
           2013
          ],
          [
           2013
          ],
          [
           2013
          ],
          [
           2013
          ],
          [
           2013
          ],
          [
           2013
          ],
          [
           2013
          ],
          [
           2013
          ],
          [
           2013
          ],
          [
           2013
          ],
          [
           2013
          ],
          [
           2013
          ],
          [
           2013
          ],
          [
           2013
          ],
          [
           2013
          ],
          [
           2013
          ],
          [
           2013
          ],
          [
           2013
          ],
          [
           2013
          ],
          [
           2014
          ],
          [
           2014
          ],
          [
           2014
          ],
          [
           2014
          ],
          [
           2014
          ],
          [
           2014
          ],
          [
           2014
          ],
          [
           2014
          ],
          [
           2014
          ],
          [
           2014
          ],
          [
           2014
          ],
          [
           2014
          ],
          [
           2014
          ],
          [
           2014
          ],
          [
           2014
          ],
          [
           2014
          ],
          [
           2014
          ],
          [
           2014
          ],
          [
           2014
          ],
          [
           2014
          ],
          [
           2014
          ],
          [
           2014
          ],
          [
           2014
          ],
          [
           2014
          ],
          [
           2014
          ],
          [
           2014
          ],
          [
           2014
          ],
          [
           2014
          ],
          [
           2014
          ],
          [
           2014
          ],
          [
           2014
          ],
          [
           2014
          ],
          [
           2014
          ],
          [
           2014
          ],
          [
           2014
          ],
          [
           2014
          ],
          [
           2014
          ],
          [
           2014
          ],
          [
           2014
          ],
          [
           2014
          ],
          [
           2014
          ],
          [
           2014
          ],
          [
           2014
          ],
          [
           2014
          ],
          [
           2014
          ],
          [
           2014
          ],
          [
           2014
          ],
          [
           2014
          ],
          [
           2014
          ],
          [
           2014
          ],
          [
           2014
          ],
          [
           2014
          ],
          [
           2014
          ],
          [
           2015
          ],
          [
           2015
          ],
          [
           2015
          ],
          [
           2015
          ],
          [
           2015
          ],
          [
           2015
          ],
          [
           2015
          ],
          [
           2015
          ],
          [
           2015
          ],
          [
           2015
          ],
          [
           2015
          ],
          [
           2015
          ],
          [
           2015
          ],
          [
           2015
          ],
          [
           2015
          ],
          [
           2015
          ],
          [
           2015
          ],
          [
           2015
          ],
          [
           2015
          ],
          [
           2015
          ],
          [
           2015
          ],
          [
           2015
          ],
          [
           2015
          ],
          [
           2015
          ],
          [
           2015
          ],
          [
           2015
          ],
          [
           2015
          ],
          [
           2015
          ],
          [
           2015
          ],
          [
           2015
          ],
          [
           2015
          ],
          [
           2015
          ],
          [
           2015
          ],
          [
           2015
          ],
          [
           2015
          ],
          [
           2015
          ],
          [
           2015
          ],
          [
           2015
          ],
          [
           2015
          ],
          [
           2015
          ],
          [
           2015
          ],
          [
           2015
          ],
          [
           2015
          ],
          [
           2015
          ],
          [
           2015
          ],
          [
           2015
          ],
          [
           2015
          ],
          [
           2015
          ],
          [
           2015
          ],
          [
           2015
          ],
          [
           2015
          ],
          [
           2015
          ],
          [
           2015
          ],
          [
           2015
          ],
          [
           2015
          ],
          [
           2015
          ],
          [
           2015
          ],
          [
           2016
          ],
          [
           2016
          ],
          [
           2016
          ],
          [
           2016
          ],
          [
           2016
          ],
          [
           2016
          ],
          [
           2016
          ],
          [
           2016
          ],
          [
           2016
          ],
          [
           2016
          ],
          [
           2016
          ],
          [
           2016
          ],
          [
           2016
          ],
          [
           2016
          ],
          [
           2016
          ],
          [
           2016
          ],
          [
           2016
          ],
          [
           2016
          ],
          [
           2016
          ],
          [
           2016
          ],
          [
           2016
          ],
          [
           2016
          ],
          [
           2016
          ],
          [
           2016
          ],
          [
           2016
          ],
          [
           2016
          ],
          [
           2016
          ],
          [
           2016
          ],
          [
           2016
          ],
          [
           2016
          ],
          [
           2016
          ],
          [
           2016
          ],
          [
           2016
          ],
          [
           2016
          ],
          [
           2016
          ],
          [
           2016
          ],
          [
           2016
          ],
          [
           2016
          ],
          [
           2016
          ],
          [
           2016
          ],
          [
           2016
          ],
          [
           2016
          ],
          [
           2016
          ],
          [
           2016
          ],
          [
           2016
          ],
          [
           2016
          ],
          [
           2016
          ],
          [
           2016
          ],
          [
           2016
          ],
          [
           2016
          ],
          [
           2016
          ],
          [
           2016
          ],
          [
           2016
          ],
          [
           2016
          ],
          [
           2016
          ],
          [
           2016
          ],
          [
           2016
          ],
          [
           2016
          ],
          [
           2016
          ],
          [
           2016
          ],
          [
           2018
          ],
          [
           2018
          ],
          [
           2018
          ],
          [
           2018
          ],
          [
           2018
          ],
          [
           2018
          ],
          [
           2018
          ],
          [
           2018
          ],
          [
           2018
          ],
          [
           2018
          ],
          [
           2018
          ],
          [
           2018
          ],
          [
           2018
          ],
          [
           2018
          ],
          [
           2018
          ],
          [
           2018
          ],
          [
           2018
          ],
          [
           2018
          ],
          [
           2018
          ],
          [
           2018
          ],
          [
           2018
          ],
          [
           2018
          ],
          [
           2018
          ],
          [
           2018
          ],
          [
           2018
          ],
          [
           2018
          ],
          [
           2018
          ],
          [
           2018
          ],
          [
           2018
          ],
          [
           2018
          ],
          [
           2018
          ],
          [
           2018
          ],
          [
           2018
          ],
          [
           2018
          ],
          [
           2018
          ],
          [
           2018
          ],
          [
           2018
          ],
          [
           2018
          ],
          [
           2018
          ],
          [
           2018
          ],
          [
           2018
          ],
          [
           2018
          ],
          [
           2018
          ],
          [
           2018
          ],
          [
           2018
          ],
          [
           2018
          ],
          [
           2018
          ],
          [
           2018
          ],
          [
           2018
          ],
          [
           2018
          ],
          [
           2018
          ],
          [
           2018
          ],
          [
           2018
          ],
          [
           2018
          ],
          [
           2018
          ],
          [
           2018
          ],
          [
           2018
          ],
          [
           2018
          ],
          [
           2018
          ],
          [
           2018
          ],
          [
           2019
          ],
          [
           2019
          ],
          [
           2019
          ],
          [
           2019
          ],
          [
           2019
          ],
          [
           2019
          ],
          [
           2019
          ],
          [
           2019
          ],
          [
           2019
          ],
          [
           2019
          ],
          [
           2019
          ],
          [
           2019
          ],
          [
           2019
          ],
          [
           2019
          ],
          [
           2019
          ],
          [
           2019
          ],
          [
           2019
          ],
          [
           2019
          ],
          [
           2019
          ],
          [
           2019
          ],
          [
           2019
          ],
          [
           2019
          ],
          [
           2019
          ],
          [
           2019
          ],
          [
           2019
          ],
          [
           2019
          ],
          [
           2019
          ],
          [
           2019
          ],
          [
           2019
          ],
          [
           2019
          ],
          [
           2019
          ],
          [
           2019
          ],
          [
           2019
          ],
          [
           2019
          ],
          [
           2019
          ],
          [
           2019
          ],
          [
           2019
          ],
          [
           2019
          ],
          [
           2019
          ],
          [
           2019
          ],
          [
           2019
          ],
          [
           2019
          ],
          [
           2019
          ],
          [
           2019
          ],
          [
           2019
          ],
          [
           2019
          ],
          [
           2019
          ],
          [
           2019
          ],
          [
           2019
          ],
          [
           2019
          ],
          [
           2019
          ],
          [
           2019
          ],
          [
           2019
          ],
          [
           2019
          ],
          [
           2019
          ],
          [
           2019
          ],
          [
           2019
          ],
          [
           2019
          ]
         ],
         "domain": {
          "x": [
           0,
           1
          ],
          "y": [
           0,
           1
          ]
         },
         "hole": 0.4,
         "hovertemplate": "season=%{customdata[0]}<extra></extra>",
         "labels": [
          2017,
          2017,
          2017,
          2017,
          2017,
          2017,
          2017,
          2017,
          2017,
          2017,
          2017,
          2017,
          2017,
          2017,
          2017,
          2017,
          2017,
          2017,
          2017,
          2017,
          2017,
          2017,
          2017,
          2017,
          2017,
          2017,
          2017,
          2017,
          2017,
          2017,
          2017,
          2017,
          2017,
          2017,
          2017,
          2017,
          2017,
          2017,
          2017,
          2017,
          2017,
          2017,
          2017,
          2017,
          2017,
          2017,
          2017,
          2017,
          2017,
          2017,
          2017,
          2017,
          2017,
          2017,
          2017,
          2017,
          2017,
          2017,
          2008,
          2008,
          2008,
          2008,
          2008,
          2008,
          2008,
          2008,
          2008,
          2008,
          2008,
          2008,
          2008,
          2008,
          2008,
          2008,
          2008,
          2008,
          2008,
          2008,
          2008,
          2008,
          2008,
          2008,
          2008,
          2008,
          2008,
          2008,
          2008,
          2008,
          2008,
          2008,
          2008,
          2008,
          2008,
          2008,
          2008,
          2008,
          2008,
          2008,
          2008,
          2008,
          2008,
          2008,
          2008,
          2008,
          2008,
          2008,
          2008,
          2008,
          2008,
          2008,
          2008,
          2008,
          2008,
          2008,
          2008,
          2008,
          2009,
          2009,
          2009,
          2009,
          2009,
          2009,
          2009,
          2009,
          2009,
          2009,
          2009,
          2009,
          2009,
          2009,
          2009,
          2009,
          2009,
          2009,
          2009,
          2009,
          2009,
          2009,
          2009,
          2009,
          2009,
          2009,
          2009,
          2009,
          2009,
          2009,
          2009,
          2009,
          2009,
          2009,
          2009,
          2009,
          2009,
          2009,
          2009,
          2009,
          2009,
          2009,
          2009,
          2009,
          2009,
          2009,
          2009,
          2009,
          2009,
          2009,
          2009,
          2009,
          2009,
          2009,
          2009,
          2009,
          2009,
          2010,
          2010,
          2010,
          2010,
          2010,
          2010,
          2010,
          2010,
          2010,
          2010,
          2010,
          2010,
          2010,
          2010,
          2010,
          2010,
          2010,
          2010,
          2010,
          2010,
          2010,
          2010,
          2010,
          2010,
          2010,
          2010,
          2010,
          2010,
          2010,
          2010,
          2010,
          2010,
          2010,
          2010,
          2010,
          2010,
          2010,
          2010,
          2010,
          2010,
          2010,
          2010,
          2010,
          2010,
          2010,
          2010,
          2010,
          2010,
          2010,
          2010,
          2010,
          2010,
          2010,
          2010,
          2010,
          2010,
          2010,
          2010,
          2010,
          2010,
          2011,
          2011,
          2011,
          2011,
          2011,
          2011,
          2011,
          2011,
          2011,
          2011,
          2011,
          2011,
          2011,
          2011,
          2011,
          2011,
          2011,
          2011,
          2011,
          2011,
          2011,
          2011,
          2011,
          2011,
          2011,
          2011,
          2011,
          2011,
          2011,
          2011,
          2011,
          2011,
          2011,
          2011,
          2011,
          2011,
          2011,
          2011,
          2011,
          2011,
          2011,
          2011,
          2011,
          2011,
          2011,
          2011,
          2011,
          2011,
          2011,
          2011,
          2011,
          2011,
          2011,
          2011,
          2011,
          2011,
          2011,
          2011,
          2011,
          2011,
          2011,
          2011,
          2011,
          2011,
          2011,
          2011,
          2011,
          2011,
          2011,
          2011,
          2011,
          2011,
          2012,
          2012,
          2012,
          2012,
          2012,
          2012,
          2012,
          2012,
          2012,
          2012,
          2012,
          2012,
          2012,
          2012,
          2012,
          2012,
          2012,
          2012,
          2012,
          2012,
          2012,
          2012,
          2012,
          2012,
          2012,
          2012,
          2012,
          2012,
          2012,
          2012,
          2012,
          2012,
          2012,
          2012,
          2012,
          2012,
          2012,
          2012,
          2012,
          2012,
          2012,
          2012,
          2012,
          2012,
          2012,
          2012,
          2012,
          2012,
          2012,
          2012,
          2012,
          2012,
          2012,
          2012,
          2012,
          2012,
          2012,
          2012,
          2012,
          2012,
          2012,
          2012,
          2012,
          2012,
          2012,
          2012,
          2012,
          2012,
          2012,
          2012,
          2012,
          2012,
          2012,
          2012,
          2013,
          2013,
          2013,
          2013,
          2013,
          2013,
          2013,
          2013,
          2013,
          2013,
          2013,
          2013,
          2013,
          2013,
          2013,
          2013,
          2013,
          2013,
          2013,
          2013,
          2013,
          2013,
          2013,
          2013,
          2013,
          2013,
          2013,
          2013,
          2013,
          2013,
          2013,
          2013,
          2013,
          2013,
          2013,
          2013,
          2013,
          2013,
          2013,
          2013,
          2013,
          2013,
          2013,
          2013,
          2013,
          2013,
          2013,
          2013,
          2013,
          2013,
          2013,
          2013,
          2013,
          2013,
          2013,
          2013,
          2013,
          2013,
          2013,
          2013,
          2013,
          2013,
          2013,
          2013,
          2013,
          2013,
          2013,
          2013,
          2013,
          2013,
          2013,
          2013,
          2013,
          2013,
          2013,
          2013,
          2014,
          2014,
          2014,
          2014,
          2014,
          2014,
          2014,
          2014,
          2014,
          2014,
          2014,
          2014,
          2014,
          2014,
          2014,
          2014,
          2014,
          2014,
          2014,
          2014,
          2014,
          2014,
          2014,
          2014,
          2014,
          2014,
          2014,
          2014,
          2014,
          2014,
          2014,
          2014,
          2014,
          2014,
          2014,
          2014,
          2014,
          2014,
          2014,
          2014,
          2014,
          2014,
          2014,
          2014,
          2014,
          2014,
          2014,
          2014,
          2014,
          2014,
          2014,
          2014,
          2014,
          2015,
          2015,
          2015,
          2015,
          2015,
          2015,
          2015,
          2015,
          2015,
          2015,
          2015,
          2015,
          2015,
          2015,
          2015,
          2015,
          2015,
          2015,
          2015,
          2015,
          2015,
          2015,
          2015,
          2015,
          2015,
          2015,
          2015,
          2015,
          2015,
          2015,
          2015,
          2015,
          2015,
          2015,
          2015,
          2015,
          2015,
          2015,
          2015,
          2015,
          2015,
          2015,
          2015,
          2015,
          2015,
          2015,
          2015,
          2015,
          2015,
          2015,
          2015,
          2015,
          2015,
          2015,
          2015,
          2015,
          2015,
          2016,
          2016,
          2016,
          2016,
          2016,
          2016,
          2016,
          2016,
          2016,
          2016,
          2016,
          2016,
          2016,
          2016,
          2016,
          2016,
          2016,
          2016,
          2016,
          2016,
          2016,
          2016,
          2016,
          2016,
          2016,
          2016,
          2016,
          2016,
          2016,
          2016,
          2016,
          2016,
          2016,
          2016,
          2016,
          2016,
          2016,
          2016,
          2016,
          2016,
          2016,
          2016,
          2016,
          2016,
          2016,
          2016,
          2016,
          2016,
          2016,
          2016,
          2016,
          2016,
          2016,
          2016,
          2016,
          2016,
          2016,
          2016,
          2016,
          2016,
          2018,
          2018,
          2018,
          2018,
          2018,
          2018,
          2018,
          2018,
          2018,
          2018,
          2018,
          2018,
          2018,
          2018,
          2018,
          2018,
          2018,
          2018,
          2018,
          2018,
          2018,
          2018,
          2018,
          2018,
          2018,
          2018,
          2018,
          2018,
          2018,
          2018,
          2018,
          2018,
          2018,
          2018,
          2018,
          2018,
          2018,
          2018,
          2018,
          2018,
          2018,
          2018,
          2018,
          2018,
          2018,
          2018,
          2018,
          2018,
          2018,
          2018,
          2018,
          2018,
          2018,
          2018,
          2018,
          2018,
          2018,
          2018,
          2018,
          2018,
          2019,
          2019,
          2019,
          2019,
          2019,
          2019,
          2019,
          2019,
          2019,
          2019,
          2019,
          2019,
          2019,
          2019,
          2019,
          2019,
          2019,
          2019,
          2019,
          2019,
          2019,
          2019,
          2019,
          2019,
          2019,
          2019,
          2019,
          2019,
          2019,
          2019,
          2019,
          2019,
          2019,
          2019,
          2019,
          2019,
          2019,
          2019,
          2019,
          2019,
          2019,
          2019,
          2019,
          2019,
          2019,
          2019,
          2019,
          2019,
          2019,
          2019,
          2019,
          2019,
          2019,
          2019,
          2019,
          2019,
          2019,
          2019
         ],
         "legendgroup": "",
         "name": "",
         "showlegend": true,
         "type": "pie",
         "values": [
          2017,
          2017,
          2017,
          2017,
          2017,
          2017,
          2017,
          2017,
          2017,
          2017,
          2017,
          2017,
          2017,
          2017,
          2017,
          2017,
          2017,
          2017,
          2017,
          2017,
          2017,
          2017,
          2017,
          2017,
          2017,
          2017,
          2017,
          2017,
          2017,
          2017,
          2017,
          2017,
          2017,
          2017,
          2017,
          2017,
          2017,
          2017,
          2017,
          2017,
          2017,
          2017,
          2017,
          2017,
          2017,
          2017,
          2017,
          2017,
          2017,
          2017,
          2017,
          2017,
          2017,
          2017,
          2017,
          2017,
          2017,
          2017,
          2008,
          2008,
          2008,
          2008,
          2008,
          2008,
          2008,
          2008,
          2008,
          2008,
          2008,
          2008,
          2008,
          2008,
          2008,
          2008,
          2008,
          2008,
          2008,
          2008,
          2008,
          2008,
          2008,
          2008,
          2008,
          2008,
          2008,
          2008,
          2008,
          2008,
          2008,
          2008,
          2008,
          2008,
          2008,
          2008,
          2008,
          2008,
          2008,
          2008,
          2008,
          2008,
          2008,
          2008,
          2008,
          2008,
          2008,
          2008,
          2008,
          2008,
          2008,
          2008,
          2008,
          2008,
          2008,
          2008,
          2008,
          2008,
          2009,
          2009,
          2009,
          2009,
          2009,
          2009,
          2009,
          2009,
          2009,
          2009,
          2009,
          2009,
          2009,
          2009,
          2009,
          2009,
          2009,
          2009,
          2009,
          2009,
          2009,
          2009,
          2009,
          2009,
          2009,
          2009,
          2009,
          2009,
          2009,
          2009,
          2009,
          2009,
          2009,
          2009,
          2009,
          2009,
          2009,
          2009,
          2009,
          2009,
          2009,
          2009,
          2009,
          2009,
          2009,
          2009,
          2009,
          2009,
          2009,
          2009,
          2009,
          2009,
          2009,
          2009,
          2009,
          2009,
          2009,
          2010,
          2010,
          2010,
          2010,
          2010,
          2010,
          2010,
          2010,
          2010,
          2010,
          2010,
          2010,
          2010,
          2010,
          2010,
          2010,
          2010,
          2010,
          2010,
          2010,
          2010,
          2010,
          2010,
          2010,
          2010,
          2010,
          2010,
          2010,
          2010,
          2010,
          2010,
          2010,
          2010,
          2010,
          2010,
          2010,
          2010,
          2010,
          2010,
          2010,
          2010,
          2010,
          2010,
          2010,
          2010,
          2010,
          2010,
          2010,
          2010,
          2010,
          2010,
          2010,
          2010,
          2010,
          2010,
          2010,
          2010,
          2010,
          2010,
          2010,
          2011,
          2011,
          2011,
          2011,
          2011,
          2011,
          2011,
          2011,
          2011,
          2011,
          2011,
          2011,
          2011,
          2011,
          2011,
          2011,
          2011,
          2011,
          2011,
          2011,
          2011,
          2011,
          2011,
          2011,
          2011,
          2011,
          2011,
          2011,
          2011,
          2011,
          2011,
          2011,
          2011,
          2011,
          2011,
          2011,
          2011,
          2011,
          2011,
          2011,
          2011,
          2011,
          2011,
          2011,
          2011,
          2011,
          2011,
          2011,
          2011,
          2011,
          2011,
          2011,
          2011,
          2011,
          2011,
          2011,
          2011,
          2011,
          2011,
          2011,
          2011,
          2011,
          2011,
          2011,
          2011,
          2011,
          2011,
          2011,
          2011,
          2011,
          2011,
          2011,
          2012,
          2012,
          2012,
          2012,
          2012,
          2012,
          2012,
          2012,
          2012,
          2012,
          2012,
          2012,
          2012,
          2012,
          2012,
          2012,
          2012,
          2012,
          2012,
          2012,
          2012,
          2012,
          2012,
          2012,
          2012,
          2012,
          2012,
          2012,
          2012,
          2012,
          2012,
          2012,
          2012,
          2012,
          2012,
          2012,
          2012,
          2012,
          2012,
          2012,
          2012,
          2012,
          2012,
          2012,
          2012,
          2012,
          2012,
          2012,
          2012,
          2012,
          2012,
          2012,
          2012,
          2012,
          2012,
          2012,
          2012,
          2012,
          2012,
          2012,
          2012,
          2012,
          2012,
          2012,
          2012,
          2012,
          2012,
          2012,
          2012,
          2012,
          2012,
          2012,
          2012,
          2012,
          2013,
          2013,
          2013,
          2013,
          2013,
          2013,
          2013,
          2013,
          2013,
          2013,
          2013,
          2013,
          2013,
          2013,
          2013,
          2013,
          2013,
          2013,
          2013,
          2013,
          2013,
          2013,
          2013,
          2013,
          2013,
          2013,
          2013,
          2013,
          2013,
          2013,
          2013,
          2013,
          2013,
          2013,
          2013,
          2013,
          2013,
          2013,
          2013,
          2013,
          2013,
          2013,
          2013,
          2013,
          2013,
          2013,
          2013,
          2013,
          2013,
          2013,
          2013,
          2013,
          2013,
          2013,
          2013,
          2013,
          2013,
          2013,
          2013,
          2013,
          2013,
          2013,
          2013,
          2013,
          2013,
          2013,
          2013,
          2013,
          2013,
          2013,
          2013,
          2013,
          2013,
          2013,
          2013,
          2013,
          2014,
          2014,
          2014,
          2014,
          2014,
          2014,
          2014,
          2014,
          2014,
          2014,
          2014,
          2014,
          2014,
          2014,
          2014,
          2014,
          2014,
          2014,
          2014,
          2014,
          2014,
          2014,
          2014,
          2014,
          2014,
          2014,
          2014,
          2014,
          2014,
          2014,
          2014,
          2014,
          2014,
          2014,
          2014,
          2014,
          2014,
          2014,
          2014,
          2014,
          2014,
          2014,
          2014,
          2014,
          2014,
          2014,
          2014,
          2014,
          2014,
          2014,
          2014,
          2014,
          2014,
          2015,
          2015,
          2015,
          2015,
          2015,
          2015,
          2015,
          2015,
          2015,
          2015,
          2015,
          2015,
          2015,
          2015,
          2015,
          2015,
          2015,
          2015,
          2015,
          2015,
          2015,
          2015,
          2015,
          2015,
          2015,
          2015,
          2015,
          2015,
          2015,
          2015,
          2015,
          2015,
          2015,
          2015,
          2015,
          2015,
          2015,
          2015,
          2015,
          2015,
          2015,
          2015,
          2015,
          2015,
          2015,
          2015,
          2015,
          2015,
          2015,
          2015,
          2015,
          2015,
          2015,
          2015,
          2015,
          2015,
          2015,
          2016,
          2016,
          2016,
          2016,
          2016,
          2016,
          2016,
          2016,
          2016,
          2016,
          2016,
          2016,
          2016,
          2016,
          2016,
          2016,
          2016,
          2016,
          2016,
          2016,
          2016,
          2016,
          2016,
          2016,
          2016,
          2016,
          2016,
          2016,
          2016,
          2016,
          2016,
          2016,
          2016,
          2016,
          2016,
          2016,
          2016,
          2016,
          2016,
          2016,
          2016,
          2016,
          2016,
          2016,
          2016,
          2016,
          2016,
          2016,
          2016,
          2016,
          2016,
          2016,
          2016,
          2016,
          2016,
          2016,
          2016,
          2016,
          2016,
          2016,
          2018,
          2018,
          2018,
          2018,
          2018,
          2018,
          2018,
          2018,
          2018,
          2018,
          2018,
          2018,
          2018,
          2018,
          2018,
          2018,
          2018,
          2018,
          2018,
          2018,
          2018,
          2018,
          2018,
          2018,
          2018,
          2018,
          2018,
          2018,
          2018,
          2018,
          2018,
          2018,
          2018,
          2018,
          2018,
          2018,
          2018,
          2018,
          2018,
          2018,
          2018,
          2018,
          2018,
          2018,
          2018,
          2018,
          2018,
          2018,
          2018,
          2018,
          2018,
          2018,
          2018,
          2018,
          2018,
          2018,
          2018,
          2018,
          2018,
          2018,
          2019,
          2019,
          2019,
          2019,
          2019,
          2019,
          2019,
          2019,
          2019,
          2019,
          2019,
          2019,
          2019,
          2019,
          2019,
          2019,
          2019,
          2019,
          2019,
          2019,
          2019,
          2019,
          2019,
          2019,
          2019,
          2019,
          2019,
          2019,
          2019,
          2019,
          2019,
          2019,
          2019,
          2019,
          2019,
          2019,
          2019,
          2019,
          2019,
          2019,
          2019,
          2019,
          2019,
          2019,
          2019,
          2019,
          2019,
          2019,
          2019,
          2019,
          2019,
          2019,
          2019,
          2019,
          2019,
          2019,
          2019,
          2019
         ]
        }
       ],
       "layout": {
        "legend": {
         "tracegroupgap": 0
        },
        "margin": {
         "t": 60
        },
        "template": {
         "data": {
          "bar": [
           {
            "error_x": {
             "color": "#2a3f5f"
            },
            "error_y": {
             "color": "#2a3f5f"
            },
            "marker": {
             "line": {
              "color": "#E5ECF6",
              "width": 0.5
             }
            },
            "type": "bar"
           }
          ],
          "barpolar": [
           {
            "marker": {
             "line": {
              "color": "#E5ECF6",
              "width": 0.5
             }
            },
            "type": "barpolar"
           }
          ],
          "carpet": [
           {
            "aaxis": {
             "endlinecolor": "#2a3f5f",
             "gridcolor": "white",
             "linecolor": "white",
             "minorgridcolor": "white",
             "startlinecolor": "#2a3f5f"
            },
            "baxis": {
             "endlinecolor": "#2a3f5f",
             "gridcolor": "white",
             "linecolor": "white",
             "minorgridcolor": "white",
             "startlinecolor": "#2a3f5f"
            },
            "type": "carpet"
           }
          ],
          "choropleth": [
           {
            "colorbar": {
             "outlinewidth": 0,
             "ticks": ""
            },
            "type": "choropleth"
           }
          ],
          "contour": [
           {
            "colorbar": {
             "outlinewidth": 0,
             "ticks": ""
            },
            "colorscale": [
             [
              0,
              "#0d0887"
             ],
             [
              0.1111111111111111,
              "#46039f"
             ],
             [
              0.2222222222222222,
              "#7201a8"
             ],
             [
              0.3333333333333333,
              "#9c179e"
             ],
             [
              0.4444444444444444,
              "#bd3786"
             ],
             [
              0.5555555555555556,
              "#d8576b"
             ],
             [
              0.6666666666666666,
              "#ed7953"
             ],
             [
              0.7777777777777778,
              "#fb9f3a"
             ],
             [
              0.8888888888888888,
              "#fdca26"
             ],
             [
              1,
              "#f0f921"
             ]
            ],
            "type": "contour"
           }
          ],
          "contourcarpet": [
           {
            "colorbar": {
             "outlinewidth": 0,
             "ticks": ""
            },
            "type": "contourcarpet"
           }
          ],
          "heatmap": [
           {
            "colorbar": {
             "outlinewidth": 0,
             "ticks": ""
            },
            "colorscale": [
             [
              0,
              "#0d0887"
             ],
             [
              0.1111111111111111,
              "#46039f"
             ],
             [
              0.2222222222222222,
              "#7201a8"
             ],
             [
              0.3333333333333333,
              "#9c179e"
             ],
             [
              0.4444444444444444,
              "#bd3786"
             ],
             [
              0.5555555555555556,
              "#d8576b"
             ],
             [
              0.6666666666666666,
              "#ed7953"
             ],
             [
              0.7777777777777778,
              "#fb9f3a"
             ],
             [
              0.8888888888888888,
              "#fdca26"
             ],
             [
              1,
              "#f0f921"
             ]
            ],
            "type": "heatmap"
           }
          ],
          "heatmapgl": [
           {
            "colorbar": {
             "outlinewidth": 0,
             "ticks": ""
            },
            "colorscale": [
             [
              0,
              "#0d0887"
             ],
             [
              0.1111111111111111,
              "#46039f"
             ],
             [
              0.2222222222222222,
              "#7201a8"
             ],
             [
              0.3333333333333333,
              "#9c179e"
             ],
             [
              0.4444444444444444,
              "#bd3786"
             ],
             [
              0.5555555555555556,
              "#d8576b"
             ],
             [
              0.6666666666666666,
              "#ed7953"
             ],
             [
              0.7777777777777778,
              "#fb9f3a"
             ],
             [
              0.8888888888888888,
              "#fdca26"
             ],
             [
              1,
              "#f0f921"
             ]
            ],
            "type": "heatmapgl"
           }
          ],
          "histogram": [
           {
            "marker": {
             "colorbar": {
              "outlinewidth": 0,
              "ticks": ""
             }
            },
            "type": "histogram"
           }
          ],
          "histogram2d": [
           {
            "colorbar": {
             "outlinewidth": 0,
             "ticks": ""
            },
            "colorscale": [
             [
              0,
              "#0d0887"
             ],
             [
              0.1111111111111111,
              "#46039f"
             ],
             [
              0.2222222222222222,
              "#7201a8"
             ],
             [
              0.3333333333333333,
              "#9c179e"
             ],
             [
              0.4444444444444444,
              "#bd3786"
             ],
             [
              0.5555555555555556,
              "#d8576b"
             ],
             [
              0.6666666666666666,
              "#ed7953"
             ],
             [
              0.7777777777777778,
              "#fb9f3a"
             ],
             [
              0.8888888888888888,
              "#fdca26"
             ],
             [
              1,
              "#f0f921"
             ]
            ],
            "type": "histogram2d"
           }
          ],
          "histogram2dcontour": [
           {
            "colorbar": {
             "outlinewidth": 0,
             "ticks": ""
            },
            "colorscale": [
             [
              0,
              "#0d0887"
             ],
             [
              0.1111111111111111,
              "#46039f"
             ],
             [
              0.2222222222222222,
              "#7201a8"
             ],
             [
              0.3333333333333333,
              "#9c179e"
             ],
             [
              0.4444444444444444,
              "#bd3786"
             ],
             [
              0.5555555555555556,
              "#d8576b"
             ],
             [
              0.6666666666666666,
              "#ed7953"
             ],
             [
              0.7777777777777778,
              "#fb9f3a"
             ],
             [
              0.8888888888888888,
              "#fdca26"
             ],
             [
              1,
              "#f0f921"
             ]
            ],
            "type": "histogram2dcontour"
           }
          ],
          "mesh3d": [
           {
            "colorbar": {
             "outlinewidth": 0,
             "ticks": ""
            },
            "type": "mesh3d"
           }
          ],
          "parcoords": [
           {
            "line": {
             "colorbar": {
              "outlinewidth": 0,
              "ticks": ""
             }
            },
            "type": "parcoords"
           }
          ],
          "pie": [
           {
            "automargin": true,
            "type": "pie"
           }
          ],
          "scatter": [
           {
            "marker": {
             "colorbar": {
              "outlinewidth": 0,
              "ticks": ""
             }
            },
            "type": "scatter"
           }
          ],
          "scatter3d": [
           {
            "line": {
             "colorbar": {
              "outlinewidth": 0,
              "ticks": ""
             }
            },
            "marker": {
             "colorbar": {
              "outlinewidth": 0,
              "ticks": ""
             }
            },
            "type": "scatter3d"
           }
          ],
          "scattercarpet": [
           {
            "marker": {
             "colorbar": {
              "outlinewidth": 0,
              "ticks": ""
             }
            },
            "type": "scattercarpet"
           }
          ],
          "scattergeo": [
           {
            "marker": {
             "colorbar": {
              "outlinewidth": 0,
              "ticks": ""
             }
            },
            "type": "scattergeo"
           }
          ],
          "scattergl": [
           {
            "marker": {
             "colorbar": {
              "outlinewidth": 0,
              "ticks": ""
             }
            },
            "type": "scattergl"
           }
          ],
          "scattermapbox": [
           {
            "marker": {
             "colorbar": {
              "outlinewidth": 0,
              "ticks": ""
             }
            },
            "type": "scattermapbox"
           }
          ],
          "scatterpolar": [
           {
            "marker": {
             "colorbar": {
              "outlinewidth": 0,
              "ticks": ""
             }
            },
            "type": "scatterpolar"
           }
          ],
          "scatterpolargl": [
           {
            "marker": {
             "colorbar": {
              "outlinewidth": 0,
              "ticks": ""
             }
            },
            "type": "scatterpolargl"
           }
          ],
          "scatterternary": [
           {
            "marker": {
             "colorbar": {
              "outlinewidth": 0,
              "ticks": ""
             }
            },
            "type": "scatterternary"
           }
          ],
          "surface": [
           {
            "colorbar": {
             "outlinewidth": 0,
             "ticks": ""
            },
            "colorscale": [
             [
              0,
              "#0d0887"
             ],
             [
              0.1111111111111111,
              "#46039f"
             ],
             [
              0.2222222222222222,
              "#7201a8"
             ],
             [
              0.3333333333333333,
              "#9c179e"
             ],
             [
              0.4444444444444444,
              "#bd3786"
             ],
             [
              0.5555555555555556,
              "#d8576b"
             ],
             [
              0.6666666666666666,
              "#ed7953"
             ],
             [
              0.7777777777777778,
              "#fb9f3a"
             ],
             [
              0.8888888888888888,
              "#fdca26"
             ],
             [
              1,
              "#f0f921"
             ]
            ],
            "type": "surface"
           }
          ],
          "table": [
           {
            "cells": {
             "fill": {
              "color": "#EBF0F8"
             },
             "line": {
              "color": "white"
             }
            },
            "header": {
             "fill": {
              "color": "#C8D4E3"
             },
             "line": {
              "color": "white"
             }
            },
            "type": "table"
           }
          ]
         },
         "layout": {
          "annotationdefaults": {
           "arrowcolor": "#2a3f5f",
           "arrowhead": 0,
           "arrowwidth": 1
          },
          "autotypenumbers": "strict",
          "coloraxis": {
           "colorbar": {
            "outlinewidth": 0,
            "ticks": ""
           }
          },
          "colorscale": {
           "diverging": [
            [
             0,
             "#8e0152"
            ],
            [
             0.1,
             "#c51b7d"
            ],
            [
             0.2,
             "#de77ae"
            ],
            [
             0.3,
             "#f1b6da"
            ],
            [
             0.4,
             "#fde0ef"
            ],
            [
             0.5,
             "#f7f7f7"
            ],
            [
             0.6,
             "#e6f5d0"
            ],
            [
             0.7,
             "#b8e186"
            ],
            [
             0.8,
             "#7fbc41"
            ],
            [
             0.9,
             "#4d9221"
            ],
            [
             1,
             "#276419"
            ]
           ],
           "sequential": [
            [
             0,
             "#0d0887"
            ],
            [
             0.1111111111111111,
             "#46039f"
            ],
            [
             0.2222222222222222,
             "#7201a8"
            ],
            [
             0.3333333333333333,
             "#9c179e"
            ],
            [
             0.4444444444444444,
             "#bd3786"
            ],
            [
             0.5555555555555556,
             "#d8576b"
            ],
            [
             0.6666666666666666,
             "#ed7953"
            ],
            [
             0.7777777777777778,
             "#fb9f3a"
            ],
            [
             0.8888888888888888,
             "#fdca26"
            ],
            [
             1,
             "#f0f921"
            ]
           ],
           "sequentialminus": [
            [
             0,
             "#0d0887"
            ],
            [
             0.1111111111111111,
             "#46039f"
            ],
            [
             0.2222222222222222,
             "#7201a8"
            ],
            [
             0.3333333333333333,
             "#9c179e"
            ],
            [
             0.4444444444444444,
             "#bd3786"
            ],
            [
             0.5555555555555556,
             "#d8576b"
            ],
            [
             0.6666666666666666,
             "#ed7953"
            ],
            [
             0.7777777777777778,
             "#fb9f3a"
            ],
            [
             0.8888888888888888,
             "#fdca26"
            ],
            [
             1,
             "#f0f921"
            ]
           ]
          },
          "colorway": [
           "#636efa",
           "#EF553B",
           "#00cc96",
           "#ab63fa",
           "#FFA15A",
           "#19d3f3",
           "#FF6692",
           "#B6E880",
           "#FF97FF",
           "#FECB52"
          ],
          "font": {
           "color": "#2a3f5f"
          },
          "geo": {
           "bgcolor": "white",
           "lakecolor": "white",
           "landcolor": "#E5ECF6",
           "showlakes": true,
           "showland": true,
           "subunitcolor": "white"
          },
          "hoverlabel": {
           "align": "left"
          },
          "hovermode": "closest",
          "mapbox": {
           "style": "light"
          },
          "paper_bgcolor": "white",
          "plot_bgcolor": "#E5ECF6",
          "polar": {
           "angularaxis": {
            "gridcolor": "white",
            "linecolor": "white",
            "ticks": ""
           },
           "bgcolor": "#E5ECF6",
           "radialaxis": {
            "gridcolor": "white",
            "linecolor": "white",
            "ticks": ""
           }
          },
          "scene": {
           "xaxis": {
            "backgroundcolor": "#E5ECF6",
            "gridcolor": "white",
            "gridwidth": 2,
            "linecolor": "white",
            "showbackground": true,
            "ticks": "",
            "zerolinecolor": "white"
           },
           "yaxis": {
            "backgroundcolor": "#E5ECF6",
            "gridcolor": "white",
            "gridwidth": 2,
            "linecolor": "white",
            "showbackground": true,
            "ticks": "",
            "zerolinecolor": "white"
           },
           "zaxis": {
            "backgroundcolor": "#E5ECF6",
            "gridcolor": "white",
            "gridwidth": 2,
            "linecolor": "white",
            "showbackground": true,
            "ticks": "",
            "zerolinecolor": "white"
           }
          },
          "shapedefaults": {
           "line": {
            "color": "#2a3f5f"
           }
          },
          "ternary": {
           "aaxis": {
            "gridcolor": "white",
            "linecolor": "white",
            "ticks": ""
           },
           "baxis": {
            "gridcolor": "white",
            "linecolor": "white",
            "ticks": ""
           },
           "bgcolor": "#E5ECF6",
           "caxis": {
            "gridcolor": "white",
            "linecolor": "white",
            "ticks": ""
           }
          },
          "title": {
           "x": 0.05
          },
          "xaxis": {
           "automargin": true,
           "gridcolor": "white",
           "linecolor": "white",
           "ticks": "",
           "title": {
            "standoff": 15
           },
           "zerolinecolor": "white",
           "zerolinewidth": 2
          },
          "yaxis": {
           "automargin": true,
           "gridcolor": "white",
           "linecolor": "white",
           "ticks": "",
           "title": {
            "standoff": 15
           },
           "zerolinecolor": "white",
           "zerolinewidth": 2
          }
         }
        }
       }
      },
      "text/html": [
       "<div>                            <div id=\"fe78a078-f4e8-43dc-b28e-226332f5381a\" class=\"plotly-graph-div\" style=\"height:525px; width:100%;\"></div>            <script type=\"text/javascript\">                require([\"plotly\"], function(Plotly) {                    window.PLOTLYENV=window.PLOTLYENV || {};                                    if (document.getElementById(\"fe78a078-f4e8-43dc-b28e-226332f5381a\")) {                    Plotly.newPlot(                        \"fe78a078-f4e8-43dc-b28e-226332f5381a\",                        [{\"customdata\": [[2017], [2017], [2017], [2017], [2017], [2017], [2017], [2017], [2017], [2017], [2017], [2017], [2017], [2017], [2017], [2017], [2017], [2017], [2017], [2017], [2017], [2017], [2017], [2017], [2017], [2017], [2017], [2017], [2017], [2017], [2017], [2017], [2017], [2017], [2017], [2017], [2017], [2017], [2017], [2017], [2017], [2017], [2017], [2017], [2017], [2017], [2017], [2017], [2017], [2017], [2017], [2017], [2017], [2017], [2017], [2017], [2017], [2017], [2008], [2008], [2008], [2008], [2008], [2008], [2008], [2008], [2008], [2008], [2008], [2008], [2008], [2008], [2008], [2008], [2008], [2008], [2008], [2008], [2008], [2008], [2008], [2008], [2008], [2008], [2008], [2008], [2008], [2008], [2008], [2008], [2008], [2008], [2008], [2008], [2008], [2008], [2008], [2008], [2008], [2008], [2008], [2008], [2008], [2008], [2008], [2008], [2008], [2008], [2008], [2008], [2008], [2008], [2008], [2008], [2008], [2008], [2009], [2009], [2009], [2009], [2009], [2009], [2009], [2009], [2009], [2009], [2009], [2009], [2009], [2009], [2009], [2009], [2009], [2009], [2009], [2009], [2009], [2009], [2009], [2009], [2009], [2009], [2009], [2009], [2009], [2009], [2009], [2009], [2009], [2009], [2009], [2009], [2009], [2009], [2009], [2009], [2009], [2009], [2009], [2009], [2009], [2009], [2009], [2009], [2009], [2009], [2009], [2009], [2009], [2009], [2009], [2009], [2009], [2010], [2010], [2010], [2010], [2010], [2010], [2010], [2010], [2010], [2010], [2010], [2010], [2010], [2010], [2010], [2010], [2010], [2010], [2010], [2010], [2010], [2010], [2010], [2010], [2010], [2010], [2010], [2010], [2010], [2010], [2010], [2010], [2010], [2010], [2010], [2010], [2010], [2010], [2010], [2010], [2010], [2010], [2010], [2010], [2010], [2010], [2010], [2010], [2010], [2010], [2010], [2010], [2010], [2010], [2010], [2010], [2010], [2010], [2010], [2010], [2011], [2011], [2011], [2011], [2011], [2011], [2011], [2011], [2011], [2011], [2011], [2011], [2011], [2011], [2011], [2011], [2011], [2011], [2011], [2011], [2011], [2011], [2011], [2011], [2011], [2011], [2011], [2011], [2011], [2011], [2011], [2011], [2011], [2011], [2011], [2011], [2011], [2011], [2011], [2011], [2011], [2011], [2011], [2011], [2011], [2011], [2011], [2011], [2011], [2011], [2011], [2011], [2011], [2011], [2011], [2011], [2011], [2011], [2011], [2011], [2011], [2011], [2011], [2011], [2011], [2011], [2011], [2011], [2011], [2011], [2011], [2011], [2012], [2012], [2012], [2012], [2012], [2012], [2012], [2012], [2012], [2012], [2012], [2012], [2012], [2012], [2012], [2012], [2012], [2012], [2012], [2012], [2012], [2012], [2012], [2012], [2012], [2012], [2012], [2012], [2012], [2012], [2012], [2012], [2012], [2012], [2012], [2012], [2012], [2012], [2012], [2012], [2012], [2012], [2012], [2012], [2012], [2012], [2012], [2012], [2012], [2012], [2012], [2012], [2012], [2012], [2012], [2012], [2012], [2012], [2012], [2012], [2012], [2012], [2012], [2012], [2012], [2012], [2012], [2012], [2012], [2012], [2012], [2012], [2012], [2012], [2013], [2013], [2013], [2013], [2013], [2013], [2013], [2013], [2013], [2013], [2013], [2013], [2013], [2013], [2013], [2013], [2013], [2013], [2013], [2013], [2013], [2013], [2013], [2013], [2013], [2013], [2013], [2013], [2013], [2013], [2013], [2013], [2013], [2013], [2013], [2013], [2013], [2013], [2013], [2013], [2013], [2013], [2013], [2013], [2013], [2013], [2013], [2013], [2013], [2013], [2013], [2013], [2013], [2013], [2013], [2013], [2013], [2013], [2013], [2013], [2013], [2013], [2013], [2013], [2013], [2013], [2013], [2013], [2013], [2013], [2013], [2013], [2013], [2013], [2013], [2013], [2014], [2014], [2014], [2014], [2014], [2014], [2014], [2014], [2014], [2014], [2014], [2014], [2014], [2014], [2014], [2014], [2014], [2014], [2014], [2014], [2014], [2014], [2014], [2014], [2014], [2014], [2014], [2014], [2014], [2014], [2014], [2014], [2014], [2014], [2014], [2014], [2014], [2014], [2014], [2014], [2014], [2014], [2014], [2014], [2014], [2014], [2014], [2014], [2014], [2014], [2014], [2014], [2014], [2015], [2015], [2015], [2015], [2015], [2015], [2015], [2015], [2015], [2015], [2015], [2015], [2015], [2015], [2015], [2015], [2015], [2015], [2015], [2015], [2015], [2015], [2015], [2015], [2015], [2015], [2015], [2015], [2015], [2015], [2015], [2015], [2015], [2015], [2015], [2015], [2015], [2015], [2015], [2015], [2015], [2015], [2015], [2015], [2015], [2015], [2015], [2015], [2015], [2015], [2015], [2015], [2015], [2015], [2015], [2015], [2015], [2016], [2016], [2016], [2016], [2016], [2016], [2016], [2016], [2016], [2016], [2016], [2016], [2016], [2016], [2016], [2016], [2016], [2016], [2016], [2016], [2016], [2016], [2016], [2016], [2016], [2016], [2016], [2016], [2016], [2016], [2016], [2016], [2016], [2016], [2016], [2016], [2016], [2016], [2016], [2016], [2016], [2016], [2016], [2016], [2016], [2016], [2016], [2016], [2016], [2016], [2016], [2016], [2016], [2016], [2016], [2016], [2016], [2016], [2016], [2016], [2018], [2018], [2018], [2018], [2018], [2018], [2018], [2018], [2018], [2018], [2018], [2018], [2018], [2018], [2018], [2018], [2018], [2018], [2018], [2018], [2018], [2018], [2018], [2018], [2018], [2018], [2018], [2018], [2018], [2018], [2018], [2018], [2018], [2018], [2018], [2018], [2018], [2018], [2018], [2018], [2018], [2018], [2018], [2018], [2018], [2018], [2018], [2018], [2018], [2018], [2018], [2018], [2018], [2018], [2018], [2018], [2018], [2018], [2018], [2018], [2019], [2019], [2019], [2019], [2019], [2019], [2019], [2019], [2019], [2019], [2019], [2019], [2019], [2019], [2019], [2019], [2019], [2019], [2019], [2019], [2019], [2019], [2019], [2019], [2019], [2019], [2019], [2019], [2019], [2019], [2019], [2019], [2019], [2019], [2019], [2019], [2019], [2019], [2019], [2019], [2019], [2019], [2019], [2019], [2019], [2019], [2019], [2019], [2019], [2019], [2019], [2019], [2019], [2019], [2019], [2019], [2019], [2019]], \"domain\": {\"x\": [0.0, 1.0], \"y\": [0.0, 1.0]}, \"hole\": 0.4, \"hovertemplate\": \"season=%{customdata[0]}<extra></extra>\", \"labels\": [2017, 2017, 2017, 2017, 2017, 2017, 2017, 2017, 2017, 2017, 2017, 2017, 2017, 2017, 2017, 2017, 2017, 2017, 2017, 2017, 2017, 2017, 2017, 2017, 2017, 2017, 2017, 2017, 2017, 2017, 2017, 2017, 2017, 2017, 2017, 2017, 2017, 2017, 2017, 2017, 2017, 2017, 2017, 2017, 2017, 2017, 2017, 2017, 2017, 2017, 2017, 2017, 2017, 2017, 2017, 2017, 2017, 2017, 2008, 2008, 2008, 2008, 2008, 2008, 2008, 2008, 2008, 2008, 2008, 2008, 2008, 2008, 2008, 2008, 2008, 2008, 2008, 2008, 2008, 2008, 2008, 2008, 2008, 2008, 2008, 2008, 2008, 2008, 2008, 2008, 2008, 2008, 2008, 2008, 2008, 2008, 2008, 2008, 2008, 2008, 2008, 2008, 2008, 2008, 2008, 2008, 2008, 2008, 2008, 2008, 2008, 2008, 2008, 2008, 2008, 2008, 2009, 2009, 2009, 2009, 2009, 2009, 2009, 2009, 2009, 2009, 2009, 2009, 2009, 2009, 2009, 2009, 2009, 2009, 2009, 2009, 2009, 2009, 2009, 2009, 2009, 2009, 2009, 2009, 2009, 2009, 2009, 2009, 2009, 2009, 2009, 2009, 2009, 2009, 2009, 2009, 2009, 2009, 2009, 2009, 2009, 2009, 2009, 2009, 2009, 2009, 2009, 2009, 2009, 2009, 2009, 2009, 2009, 2010, 2010, 2010, 2010, 2010, 2010, 2010, 2010, 2010, 2010, 2010, 2010, 2010, 2010, 2010, 2010, 2010, 2010, 2010, 2010, 2010, 2010, 2010, 2010, 2010, 2010, 2010, 2010, 2010, 2010, 2010, 2010, 2010, 2010, 2010, 2010, 2010, 2010, 2010, 2010, 2010, 2010, 2010, 2010, 2010, 2010, 2010, 2010, 2010, 2010, 2010, 2010, 2010, 2010, 2010, 2010, 2010, 2010, 2010, 2010, 2011, 2011, 2011, 2011, 2011, 2011, 2011, 2011, 2011, 2011, 2011, 2011, 2011, 2011, 2011, 2011, 2011, 2011, 2011, 2011, 2011, 2011, 2011, 2011, 2011, 2011, 2011, 2011, 2011, 2011, 2011, 2011, 2011, 2011, 2011, 2011, 2011, 2011, 2011, 2011, 2011, 2011, 2011, 2011, 2011, 2011, 2011, 2011, 2011, 2011, 2011, 2011, 2011, 2011, 2011, 2011, 2011, 2011, 2011, 2011, 2011, 2011, 2011, 2011, 2011, 2011, 2011, 2011, 2011, 2011, 2011, 2011, 2012, 2012, 2012, 2012, 2012, 2012, 2012, 2012, 2012, 2012, 2012, 2012, 2012, 2012, 2012, 2012, 2012, 2012, 2012, 2012, 2012, 2012, 2012, 2012, 2012, 2012, 2012, 2012, 2012, 2012, 2012, 2012, 2012, 2012, 2012, 2012, 2012, 2012, 2012, 2012, 2012, 2012, 2012, 2012, 2012, 2012, 2012, 2012, 2012, 2012, 2012, 2012, 2012, 2012, 2012, 2012, 2012, 2012, 2012, 2012, 2012, 2012, 2012, 2012, 2012, 2012, 2012, 2012, 2012, 2012, 2012, 2012, 2012, 2012, 2013, 2013, 2013, 2013, 2013, 2013, 2013, 2013, 2013, 2013, 2013, 2013, 2013, 2013, 2013, 2013, 2013, 2013, 2013, 2013, 2013, 2013, 2013, 2013, 2013, 2013, 2013, 2013, 2013, 2013, 2013, 2013, 2013, 2013, 2013, 2013, 2013, 2013, 2013, 2013, 2013, 2013, 2013, 2013, 2013, 2013, 2013, 2013, 2013, 2013, 2013, 2013, 2013, 2013, 2013, 2013, 2013, 2013, 2013, 2013, 2013, 2013, 2013, 2013, 2013, 2013, 2013, 2013, 2013, 2013, 2013, 2013, 2013, 2013, 2013, 2013, 2014, 2014, 2014, 2014, 2014, 2014, 2014, 2014, 2014, 2014, 2014, 2014, 2014, 2014, 2014, 2014, 2014, 2014, 2014, 2014, 2014, 2014, 2014, 2014, 2014, 2014, 2014, 2014, 2014, 2014, 2014, 2014, 2014, 2014, 2014, 2014, 2014, 2014, 2014, 2014, 2014, 2014, 2014, 2014, 2014, 2014, 2014, 2014, 2014, 2014, 2014, 2014, 2014, 2015, 2015, 2015, 2015, 2015, 2015, 2015, 2015, 2015, 2015, 2015, 2015, 2015, 2015, 2015, 2015, 2015, 2015, 2015, 2015, 2015, 2015, 2015, 2015, 2015, 2015, 2015, 2015, 2015, 2015, 2015, 2015, 2015, 2015, 2015, 2015, 2015, 2015, 2015, 2015, 2015, 2015, 2015, 2015, 2015, 2015, 2015, 2015, 2015, 2015, 2015, 2015, 2015, 2015, 2015, 2015, 2015, 2016, 2016, 2016, 2016, 2016, 2016, 2016, 2016, 2016, 2016, 2016, 2016, 2016, 2016, 2016, 2016, 2016, 2016, 2016, 2016, 2016, 2016, 2016, 2016, 2016, 2016, 2016, 2016, 2016, 2016, 2016, 2016, 2016, 2016, 2016, 2016, 2016, 2016, 2016, 2016, 2016, 2016, 2016, 2016, 2016, 2016, 2016, 2016, 2016, 2016, 2016, 2016, 2016, 2016, 2016, 2016, 2016, 2016, 2016, 2016, 2018, 2018, 2018, 2018, 2018, 2018, 2018, 2018, 2018, 2018, 2018, 2018, 2018, 2018, 2018, 2018, 2018, 2018, 2018, 2018, 2018, 2018, 2018, 2018, 2018, 2018, 2018, 2018, 2018, 2018, 2018, 2018, 2018, 2018, 2018, 2018, 2018, 2018, 2018, 2018, 2018, 2018, 2018, 2018, 2018, 2018, 2018, 2018, 2018, 2018, 2018, 2018, 2018, 2018, 2018, 2018, 2018, 2018, 2018, 2018, 2019, 2019, 2019, 2019, 2019, 2019, 2019, 2019, 2019, 2019, 2019, 2019, 2019, 2019, 2019, 2019, 2019, 2019, 2019, 2019, 2019, 2019, 2019, 2019, 2019, 2019, 2019, 2019, 2019, 2019, 2019, 2019, 2019, 2019, 2019, 2019, 2019, 2019, 2019, 2019, 2019, 2019, 2019, 2019, 2019, 2019, 2019, 2019, 2019, 2019, 2019, 2019, 2019, 2019, 2019, 2019, 2019, 2019], \"legendgroup\": \"\", \"name\": \"\", \"showlegend\": true, \"type\": \"pie\", \"values\": [2017, 2017, 2017, 2017, 2017, 2017, 2017, 2017, 2017, 2017, 2017, 2017, 2017, 2017, 2017, 2017, 2017, 2017, 2017, 2017, 2017, 2017, 2017, 2017, 2017, 2017, 2017, 2017, 2017, 2017, 2017, 2017, 2017, 2017, 2017, 2017, 2017, 2017, 2017, 2017, 2017, 2017, 2017, 2017, 2017, 2017, 2017, 2017, 2017, 2017, 2017, 2017, 2017, 2017, 2017, 2017, 2017, 2017, 2008, 2008, 2008, 2008, 2008, 2008, 2008, 2008, 2008, 2008, 2008, 2008, 2008, 2008, 2008, 2008, 2008, 2008, 2008, 2008, 2008, 2008, 2008, 2008, 2008, 2008, 2008, 2008, 2008, 2008, 2008, 2008, 2008, 2008, 2008, 2008, 2008, 2008, 2008, 2008, 2008, 2008, 2008, 2008, 2008, 2008, 2008, 2008, 2008, 2008, 2008, 2008, 2008, 2008, 2008, 2008, 2008, 2008, 2009, 2009, 2009, 2009, 2009, 2009, 2009, 2009, 2009, 2009, 2009, 2009, 2009, 2009, 2009, 2009, 2009, 2009, 2009, 2009, 2009, 2009, 2009, 2009, 2009, 2009, 2009, 2009, 2009, 2009, 2009, 2009, 2009, 2009, 2009, 2009, 2009, 2009, 2009, 2009, 2009, 2009, 2009, 2009, 2009, 2009, 2009, 2009, 2009, 2009, 2009, 2009, 2009, 2009, 2009, 2009, 2009, 2010, 2010, 2010, 2010, 2010, 2010, 2010, 2010, 2010, 2010, 2010, 2010, 2010, 2010, 2010, 2010, 2010, 2010, 2010, 2010, 2010, 2010, 2010, 2010, 2010, 2010, 2010, 2010, 2010, 2010, 2010, 2010, 2010, 2010, 2010, 2010, 2010, 2010, 2010, 2010, 2010, 2010, 2010, 2010, 2010, 2010, 2010, 2010, 2010, 2010, 2010, 2010, 2010, 2010, 2010, 2010, 2010, 2010, 2010, 2010, 2011, 2011, 2011, 2011, 2011, 2011, 2011, 2011, 2011, 2011, 2011, 2011, 2011, 2011, 2011, 2011, 2011, 2011, 2011, 2011, 2011, 2011, 2011, 2011, 2011, 2011, 2011, 2011, 2011, 2011, 2011, 2011, 2011, 2011, 2011, 2011, 2011, 2011, 2011, 2011, 2011, 2011, 2011, 2011, 2011, 2011, 2011, 2011, 2011, 2011, 2011, 2011, 2011, 2011, 2011, 2011, 2011, 2011, 2011, 2011, 2011, 2011, 2011, 2011, 2011, 2011, 2011, 2011, 2011, 2011, 2011, 2011, 2012, 2012, 2012, 2012, 2012, 2012, 2012, 2012, 2012, 2012, 2012, 2012, 2012, 2012, 2012, 2012, 2012, 2012, 2012, 2012, 2012, 2012, 2012, 2012, 2012, 2012, 2012, 2012, 2012, 2012, 2012, 2012, 2012, 2012, 2012, 2012, 2012, 2012, 2012, 2012, 2012, 2012, 2012, 2012, 2012, 2012, 2012, 2012, 2012, 2012, 2012, 2012, 2012, 2012, 2012, 2012, 2012, 2012, 2012, 2012, 2012, 2012, 2012, 2012, 2012, 2012, 2012, 2012, 2012, 2012, 2012, 2012, 2012, 2012, 2013, 2013, 2013, 2013, 2013, 2013, 2013, 2013, 2013, 2013, 2013, 2013, 2013, 2013, 2013, 2013, 2013, 2013, 2013, 2013, 2013, 2013, 2013, 2013, 2013, 2013, 2013, 2013, 2013, 2013, 2013, 2013, 2013, 2013, 2013, 2013, 2013, 2013, 2013, 2013, 2013, 2013, 2013, 2013, 2013, 2013, 2013, 2013, 2013, 2013, 2013, 2013, 2013, 2013, 2013, 2013, 2013, 2013, 2013, 2013, 2013, 2013, 2013, 2013, 2013, 2013, 2013, 2013, 2013, 2013, 2013, 2013, 2013, 2013, 2013, 2013, 2014, 2014, 2014, 2014, 2014, 2014, 2014, 2014, 2014, 2014, 2014, 2014, 2014, 2014, 2014, 2014, 2014, 2014, 2014, 2014, 2014, 2014, 2014, 2014, 2014, 2014, 2014, 2014, 2014, 2014, 2014, 2014, 2014, 2014, 2014, 2014, 2014, 2014, 2014, 2014, 2014, 2014, 2014, 2014, 2014, 2014, 2014, 2014, 2014, 2014, 2014, 2014, 2014, 2015, 2015, 2015, 2015, 2015, 2015, 2015, 2015, 2015, 2015, 2015, 2015, 2015, 2015, 2015, 2015, 2015, 2015, 2015, 2015, 2015, 2015, 2015, 2015, 2015, 2015, 2015, 2015, 2015, 2015, 2015, 2015, 2015, 2015, 2015, 2015, 2015, 2015, 2015, 2015, 2015, 2015, 2015, 2015, 2015, 2015, 2015, 2015, 2015, 2015, 2015, 2015, 2015, 2015, 2015, 2015, 2015, 2016, 2016, 2016, 2016, 2016, 2016, 2016, 2016, 2016, 2016, 2016, 2016, 2016, 2016, 2016, 2016, 2016, 2016, 2016, 2016, 2016, 2016, 2016, 2016, 2016, 2016, 2016, 2016, 2016, 2016, 2016, 2016, 2016, 2016, 2016, 2016, 2016, 2016, 2016, 2016, 2016, 2016, 2016, 2016, 2016, 2016, 2016, 2016, 2016, 2016, 2016, 2016, 2016, 2016, 2016, 2016, 2016, 2016, 2016, 2016, 2018, 2018, 2018, 2018, 2018, 2018, 2018, 2018, 2018, 2018, 2018, 2018, 2018, 2018, 2018, 2018, 2018, 2018, 2018, 2018, 2018, 2018, 2018, 2018, 2018, 2018, 2018, 2018, 2018, 2018, 2018, 2018, 2018, 2018, 2018, 2018, 2018, 2018, 2018, 2018, 2018, 2018, 2018, 2018, 2018, 2018, 2018, 2018, 2018, 2018, 2018, 2018, 2018, 2018, 2018, 2018, 2018, 2018, 2018, 2018, 2019, 2019, 2019, 2019, 2019, 2019, 2019, 2019, 2019, 2019, 2019, 2019, 2019, 2019, 2019, 2019, 2019, 2019, 2019, 2019, 2019, 2019, 2019, 2019, 2019, 2019, 2019, 2019, 2019, 2019, 2019, 2019, 2019, 2019, 2019, 2019, 2019, 2019, 2019, 2019, 2019, 2019, 2019, 2019, 2019, 2019, 2019, 2019, 2019, 2019, 2019, 2019, 2019, 2019, 2019, 2019, 2019, 2019]}],                        {\"legend\": {\"tracegroupgap\": 0}, \"margin\": {\"t\": 60}, \"template\": {\"data\": {\"bar\": [{\"error_x\": {\"color\": \"#2a3f5f\"}, \"error_y\": {\"color\": \"#2a3f5f\"}, \"marker\": {\"line\": {\"color\": \"#E5ECF6\", \"width\": 0.5}}, \"type\": \"bar\"}], \"barpolar\": [{\"marker\": {\"line\": {\"color\": \"#E5ECF6\", \"width\": 0.5}}, \"type\": \"barpolar\"}], \"carpet\": [{\"aaxis\": {\"endlinecolor\": \"#2a3f5f\", \"gridcolor\": \"white\", \"linecolor\": \"white\", \"minorgridcolor\": \"white\", \"startlinecolor\": \"#2a3f5f\"}, \"baxis\": {\"endlinecolor\": \"#2a3f5f\", \"gridcolor\": \"white\", \"linecolor\": \"white\", \"minorgridcolor\": \"white\", \"startlinecolor\": \"#2a3f5f\"}, \"type\": \"carpet\"}], \"choropleth\": [{\"colorbar\": {\"outlinewidth\": 0, \"ticks\": \"\"}, \"type\": \"choropleth\"}], \"contour\": [{\"colorbar\": {\"outlinewidth\": 0, \"ticks\": \"\"}, \"colorscale\": [[0.0, \"#0d0887\"], [0.1111111111111111, \"#46039f\"], [0.2222222222222222, \"#7201a8\"], [0.3333333333333333, \"#9c179e\"], [0.4444444444444444, \"#bd3786\"], [0.5555555555555556, \"#d8576b\"], [0.6666666666666666, \"#ed7953\"], [0.7777777777777778, \"#fb9f3a\"], [0.8888888888888888, \"#fdca26\"], [1.0, \"#f0f921\"]], \"type\": \"contour\"}], \"contourcarpet\": [{\"colorbar\": {\"outlinewidth\": 0, \"ticks\": \"\"}, \"type\": \"contourcarpet\"}], \"heatmap\": [{\"colorbar\": {\"outlinewidth\": 0, \"ticks\": \"\"}, \"colorscale\": [[0.0, \"#0d0887\"], [0.1111111111111111, \"#46039f\"], [0.2222222222222222, \"#7201a8\"], [0.3333333333333333, \"#9c179e\"], [0.4444444444444444, \"#bd3786\"], [0.5555555555555556, \"#d8576b\"], [0.6666666666666666, \"#ed7953\"], [0.7777777777777778, \"#fb9f3a\"], [0.8888888888888888, \"#fdca26\"], [1.0, \"#f0f921\"]], \"type\": \"heatmap\"}], \"heatmapgl\": [{\"colorbar\": {\"outlinewidth\": 0, \"ticks\": \"\"}, \"colorscale\": [[0.0, \"#0d0887\"], [0.1111111111111111, \"#46039f\"], [0.2222222222222222, \"#7201a8\"], [0.3333333333333333, \"#9c179e\"], [0.4444444444444444, \"#bd3786\"], [0.5555555555555556, \"#d8576b\"], [0.6666666666666666, \"#ed7953\"], [0.7777777777777778, \"#fb9f3a\"], [0.8888888888888888, \"#fdca26\"], [1.0, \"#f0f921\"]], \"type\": \"heatmapgl\"}], \"histogram\": [{\"marker\": {\"colorbar\": {\"outlinewidth\": 0, \"ticks\": \"\"}}, \"type\": \"histogram\"}], \"histogram2d\": [{\"colorbar\": {\"outlinewidth\": 0, \"ticks\": \"\"}, \"colorscale\": [[0.0, \"#0d0887\"], [0.1111111111111111, \"#46039f\"], [0.2222222222222222, \"#7201a8\"], [0.3333333333333333, \"#9c179e\"], [0.4444444444444444, \"#bd3786\"], [0.5555555555555556, \"#d8576b\"], [0.6666666666666666, \"#ed7953\"], [0.7777777777777778, \"#fb9f3a\"], [0.8888888888888888, \"#fdca26\"], [1.0, \"#f0f921\"]], \"type\": \"histogram2d\"}], \"histogram2dcontour\": [{\"colorbar\": {\"outlinewidth\": 0, \"ticks\": \"\"}, \"colorscale\": [[0.0, \"#0d0887\"], [0.1111111111111111, \"#46039f\"], [0.2222222222222222, \"#7201a8\"], [0.3333333333333333, \"#9c179e\"], [0.4444444444444444, \"#bd3786\"], [0.5555555555555556, \"#d8576b\"], [0.6666666666666666, \"#ed7953\"], [0.7777777777777778, \"#fb9f3a\"], [0.8888888888888888, \"#fdca26\"], [1.0, \"#f0f921\"]], \"type\": \"histogram2dcontour\"}], \"mesh3d\": [{\"colorbar\": {\"outlinewidth\": 0, \"ticks\": \"\"}, \"type\": \"mesh3d\"}], \"parcoords\": [{\"line\": {\"colorbar\": {\"outlinewidth\": 0, \"ticks\": \"\"}}, \"type\": \"parcoords\"}], \"pie\": [{\"automargin\": true, \"type\": \"pie\"}], \"scatter\": [{\"marker\": {\"colorbar\": {\"outlinewidth\": 0, \"ticks\": \"\"}}, \"type\": \"scatter\"}], \"scatter3d\": [{\"line\": {\"colorbar\": {\"outlinewidth\": 0, \"ticks\": \"\"}}, \"marker\": {\"colorbar\": {\"outlinewidth\": 0, \"ticks\": \"\"}}, \"type\": \"scatter3d\"}], \"scattercarpet\": [{\"marker\": {\"colorbar\": {\"outlinewidth\": 0, \"ticks\": \"\"}}, \"type\": \"scattercarpet\"}], \"scattergeo\": [{\"marker\": {\"colorbar\": {\"outlinewidth\": 0, \"ticks\": \"\"}}, \"type\": \"scattergeo\"}], \"scattergl\": [{\"marker\": {\"colorbar\": {\"outlinewidth\": 0, \"ticks\": \"\"}}, \"type\": \"scattergl\"}], \"scattermapbox\": [{\"marker\": {\"colorbar\": {\"outlinewidth\": 0, \"ticks\": \"\"}}, \"type\": \"scattermapbox\"}], \"scatterpolar\": [{\"marker\": {\"colorbar\": {\"outlinewidth\": 0, \"ticks\": \"\"}}, \"type\": \"scatterpolar\"}], \"scatterpolargl\": [{\"marker\": {\"colorbar\": {\"outlinewidth\": 0, \"ticks\": \"\"}}, \"type\": \"scatterpolargl\"}], \"scatterternary\": [{\"marker\": {\"colorbar\": {\"outlinewidth\": 0, \"ticks\": \"\"}}, \"type\": \"scatterternary\"}], \"surface\": [{\"colorbar\": {\"outlinewidth\": 0, \"ticks\": \"\"}, \"colorscale\": [[0.0, \"#0d0887\"], [0.1111111111111111, \"#46039f\"], [0.2222222222222222, \"#7201a8\"], [0.3333333333333333, \"#9c179e\"], [0.4444444444444444, \"#bd3786\"], [0.5555555555555556, \"#d8576b\"], [0.6666666666666666, \"#ed7953\"], [0.7777777777777778, \"#fb9f3a\"], [0.8888888888888888, \"#fdca26\"], [1.0, \"#f0f921\"]], \"type\": \"surface\"}], \"table\": [{\"cells\": {\"fill\": {\"color\": \"#EBF0F8\"}, \"line\": {\"color\": \"white\"}}, \"header\": {\"fill\": {\"color\": \"#C8D4E3\"}, \"line\": {\"color\": \"white\"}}, \"type\": \"table\"}]}, \"layout\": {\"annotationdefaults\": {\"arrowcolor\": \"#2a3f5f\", \"arrowhead\": 0, \"arrowwidth\": 1}, \"autotypenumbers\": \"strict\", \"coloraxis\": {\"colorbar\": {\"outlinewidth\": 0, \"ticks\": \"\"}}, \"colorscale\": {\"diverging\": [[0, \"#8e0152\"], [0.1, \"#c51b7d\"], [0.2, \"#de77ae\"], [0.3, \"#f1b6da\"], [0.4, \"#fde0ef\"], [0.5, \"#f7f7f7\"], [0.6, \"#e6f5d0\"], [0.7, \"#b8e186\"], [0.8, \"#7fbc41\"], [0.9, \"#4d9221\"], [1, \"#276419\"]], \"sequential\": [[0.0, \"#0d0887\"], [0.1111111111111111, \"#46039f\"], [0.2222222222222222, \"#7201a8\"], [0.3333333333333333, \"#9c179e\"], [0.4444444444444444, \"#bd3786\"], [0.5555555555555556, \"#d8576b\"], [0.6666666666666666, \"#ed7953\"], [0.7777777777777778, \"#fb9f3a\"], [0.8888888888888888, \"#fdca26\"], [1.0, \"#f0f921\"]], \"sequentialminus\": [[0.0, \"#0d0887\"], [0.1111111111111111, \"#46039f\"], [0.2222222222222222, \"#7201a8\"], [0.3333333333333333, \"#9c179e\"], [0.4444444444444444, \"#bd3786\"], [0.5555555555555556, \"#d8576b\"], [0.6666666666666666, \"#ed7953\"], [0.7777777777777778, \"#fb9f3a\"], [0.8888888888888888, \"#fdca26\"], [1.0, \"#f0f921\"]]}, \"colorway\": [\"#636efa\", \"#EF553B\", \"#00cc96\", \"#ab63fa\", \"#FFA15A\", \"#19d3f3\", \"#FF6692\", \"#B6E880\", \"#FF97FF\", \"#FECB52\"], \"font\": {\"color\": \"#2a3f5f\"}, \"geo\": {\"bgcolor\": \"white\", \"lakecolor\": \"white\", \"landcolor\": \"#E5ECF6\", \"showlakes\": true, \"showland\": true, \"subunitcolor\": \"white\"}, \"hoverlabel\": {\"align\": \"left\"}, \"hovermode\": \"closest\", \"mapbox\": {\"style\": \"light\"}, \"paper_bgcolor\": \"white\", \"plot_bgcolor\": \"#E5ECF6\", \"polar\": {\"angularaxis\": {\"gridcolor\": \"white\", \"linecolor\": \"white\", \"ticks\": \"\"}, \"bgcolor\": \"#E5ECF6\", \"radialaxis\": {\"gridcolor\": \"white\", \"linecolor\": \"white\", \"ticks\": \"\"}}, \"scene\": {\"xaxis\": {\"backgroundcolor\": \"#E5ECF6\", \"gridcolor\": \"white\", \"gridwidth\": 2, \"linecolor\": \"white\", \"showbackground\": true, \"ticks\": \"\", \"zerolinecolor\": \"white\"}, \"yaxis\": {\"backgroundcolor\": \"#E5ECF6\", \"gridcolor\": \"white\", \"gridwidth\": 2, \"linecolor\": \"white\", \"showbackground\": true, \"ticks\": \"\", \"zerolinecolor\": \"white\"}, \"zaxis\": {\"backgroundcolor\": \"#E5ECF6\", \"gridcolor\": \"white\", \"gridwidth\": 2, \"linecolor\": \"white\", \"showbackground\": true, \"ticks\": \"\", \"zerolinecolor\": \"white\"}}, \"shapedefaults\": {\"line\": {\"color\": \"#2a3f5f\"}}, \"ternary\": {\"aaxis\": {\"gridcolor\": \"white\", \"linecolor\": \"white\", \"ticks\": \"\"}, \"baxis\": {\"gridcolor\": \"white\", \"linecolor\": \"white\", \"ticks\": \"\"}, \"bgcolor\": \"#E5ECF6\", \"caxis\": {\"gridcolor\": \"white\", \"linecolor\": \"white\", \"ticks\": \"\"}}, \"title\": {\"x\": 0.05}, \"xaxis\": {\"automargin\": true, \"gridcolor\": \"white\", \"linecolor\": \"white\", \"ticks\": \"\", \"title\": {\"standoff\": 15}, \"zerolinecolor\": \"white\", \"zerolinewidth\": 2}, \"yaxis\": {\"automargin\": true, \"gridcolor\": \"white\", \"linecolor\": \"white\", \"ticks\": \"\", \"title\": {\"standoff\": 15}, \"zerolinecolor\": \"white\", \"zerolinewidth\": 2}}}},                        {\"responsive\": true}                    ).then(function(){\n",
       "                            \n",
       "var gd = document.getElementById('fe78a078-f4e8-43dc-b28e-226332f5381a');\n",
       "var x = new MutationObserver(function (mutations, observer) {{\n",
       "        var display = window.getComputedStyle(gd).display;\n",
       "        if (!display || display === 'none') {{\n",
       "            console.log([gd, 'removed!']);\n",
       "            Plotly.purge(gd);\n",
       "            observer.disconnect();\n",
       "        }}\n",
       "}});\n",
       "\n",
       "// Listen for the removal of the full notebook cells\n",
       "var notebookContainer = gd.closest('#notebook-container');\n",
       "if (notebookContainer) {{\n",
       "    x.observe(notebookContainer, {childList: true});\n",
       "}}\n",
       "\n",
       "// Listen for the clearing of the current output cell\n",
       "var outputEl = gd.closest('.output');\n",
       "if (outputEl) {{\n",
       "    x.observe(outputEl, {childList: true});\n",
       "}}\n",
       "\n",
       "                        })                };                });            </script>        </div>"
      ]
     },
     "metadata": {},
     "output_type": "display_data"
    }
   ],
   "source": [
    "px.pie(df_mat, \"season\", values=\"season\", hover_data=[\"season\"], hole=0.4, )"
   ]
  },
  {
   "cell_type": "code",
   "execution_count": 105,
   "metadata": {},
   "outputs": [
    {
     "data": {
      "image/png": "[encoded data removed]",
      "text/plain": [
       "<Figure size 864x432 with 1 Axes>"
      ]
     },
     "metadata": {
      "needs_background": "light"
     },
     "output_type": "display_data"
    }
   ],
   "source": [
    "sns.countplot(df_mat.season)\n",
    "plt.title(\"Number of Matches in Seasons\", fontsize=30)\n",
    "plt.show()"
   ]
  },
  {
   "cell_type": "code",
   "execution_count": 106,
   "metadata": {},
   "outputs": [
    {
     "data": {
      "application/vnd.plotly.v1+json": {
       "config": {
        "plotlyServerURL": "https://plot.ly"
       },
       "data": [
        {
         "domain": {
          "x": [
           0,
           1
          ],
          "y": [
           0,
           1
          ]
         },
         "hole": 0.5,
         "hovertemplate": "city=%{label}<extra></extra>",
         "labels": [
          "Hyderabad",
          "Pune",
          "Rajkot",
          "Indore",
          "Hyderabad",
          "Mumbai",
          "Indore",
          "Pune",
          "Mumbai",
          "Kolkata",
          "Bangalore",
          "Rajkot",
          "Kolkata",
          "Delhi",
          "Mumbai",
          "Bangalore",
          "Delhi",
          "Hyderabad",
          "Rajkot",
          "Hyderabad",
          "Indore",
          "Kolkata",
          "Mumbai",
          "Pune",
          "Rajkot",
          "Kolkata",
          "Mumbai",
          "Pune",
          "Bangalore",
          "Kolkata",
          "Chandigarh",
          "Pune",
          "Rajkot",
          "Chandigarh",
          "Hyderabad",
          "Mumbai",
          "Pune",
          "Delhi",
          "Kolkata",
          "Delhi",
          "Bangalore",
          "Hyderabad",
          "Delhi",
          "Bangalore",
          "Chandigarh",
          "Hyderabad",
          "Chandigarh",
          "Kanpur",
          "Mumbai",
          "Delhi",
          "Kanpur",
          "Kolkata",
          "Pune",
          "Delhi",
          "Mumbai",
          "Bangalore",
          "Bangalore",
          "Hyderabad",
          "Bangalore",
          "Chandigarh",
          "Delhi",
          "Mumbai",
          "Kolkata",
          "Jaipur",
          "Hyderabad",
          "Chennai",
          "Hyderabad",
          "Chandigarh",
          "Bangalore",
          "Chennai",
          "Mumbai",
          "Chandigarh",
          "Bangalore",
          "Kolkata",
          "Delhi",
          "Hyderabad",
          "Jaipur",
          "Chennai",
          "Hyderabad",
          "Chandigarh",
          "Mumbai",
          "Jaipur",
          "Bangalore",
          "Chennai",
          "Mumbai",
          "Delhi",
          "Kolkata",
          "Jaipur",
          "Bangalore",
          "Chennai",
          "Hyderabad",
          "Jaipur",
          "Chandigarh",
          "Kolkata",
          "Mumbai",
          "Chandigarh",
          "Delhi",
          "Mumbai",
          "Delhi",
          "Jaipur",
          "Hyderabad",
          "Kolkata",
          "Bangalore",
          "Kolkata",
          "Mumbai",
          "Chennai",
          "Chandigarh",
          "Delhi",
          "Chennai",
          "Bangalore",
          "Kolkata",
          "Jaipur",
          "Hyderabad",
          "Mumbai",
          "Mumbai",
          "Mumbai",
          "Cape Town",
          "Cape Town",
          "Cape Town",
          "Cape Town",
          "Port Elizabeth",
          "Durban",
          "Cape Town",
          "Durban",
          "Cape Town",
          "Durban",
          "Durban",
          "Port Elizabeth",
          "Cape Town",
          "Durban",
          "Port Elizabeth",
          "Centurion",
          "Durban",
          "Durban",
          "Centurion",
          "Centurion",
          "East London",
          "Durban",
          "Port Elizabeth",
          "Johannesburg",
          "Port Elizabeth",
          "Johannesburg",
          "East London",
          "Durban",
          "Durban",
          "Centurion",
          "Centurion",
          "Centurion",
          "East London",
          "Kimberley",
          "Kimberley",
          "Port Elizabeth",
          "Johannesburg",
          "Kimberley",
          "Centurion",
          "Centurion",
          "Durban",
          "Durban",
          "Durban",
          "Bloemfontein",
          "Port Elizabeth",
          "Johannesburg",
          "Johannesburg",
          "Bloemfontein",
          "Centurion",
          "Johannesburg",
          "Durban",
          "Durban",
          "Centurion",
          "Centurion",
          "Centurion",
          "Johannesburg",
          "Johannesburg",
          "Mumbai",
          "Mumbai",
          "Chandigarh",
          "Kolkata",
          "Chennai",
          "Ahmedabad",
          "Bangalore",
          "Kolkata",
          "Delhi",
          "Bangalore",
          "Delhi",
          "Cuttack",
          "Ahmedabad",
          "Mumbai",
          "Cuttack",
          "Chennai",
          "Mumbai",
          "Bangalore",
          "Chandigarh",
          "Mumbai",
          "Ahmedabad",
          "Chandigarh",
          "Bangalore",
          "Ahmedabad",
          "Mumbai",
          "Delhi",
          "Mumbai",
          "Chennai",
          "Delhi",
          "Kolkata",
          "Chandigarh",
          "Chennai",
          "Mumbai",
          "Kolkata",
          "Delhi",
          "Nagpur",
          "Chennai",
          "Jaipur",
          "Kolkata",
          "Bangalore",
          "Chandigarh",
          "Nagpur",
          "Bangalore",
          "Delhi",
          "Jaipur",
          "Nagpur",
          "Mumbai",
          "Chennai",
          "Jaipur",
          "Chennai",
          "Dharamsala",
          "Bangalore",
          "Kolkata",
          "Dharamsala",
          "Delhi",
          "Kolkata",
          "Mumbai",
          "Mumbai",
          "Mumbai",
          "Mumbai",
          "Chennai",
          "Hyderabad",
          "Kochi",
          "Delhi",
          "Mumbai",
          "Kolkata",
          "Jaipur",
          "Bangalore",
          "Chandigarh",
          "Mumbai",
          "Hyderabad",
          "Jaipur",
          "Mumbai",
          "Chennai",
          "Hyderabad",
          "Mumbai",
          "Kolkata",
          "Kochi",
          "Delhi",
          "Mumbai",
          "Kolkata",
          "Chandigarh",
          "Mumbai",
          "Kolkata",
          "Delhi",
          "Hyderabad",
          "Jaipur",
          "Chennai",
          "Delhi",
          "Mumbai",
          "Kochi",
          "Delhi",
          "Jaipur",
          "Bangalore",
          "Kochi",
          "Kolkata",
          "Jaipur",
          "Chennai",
          "Mumbai",
          "Delhi",
          "Hyderabad",
          "Chennai",
          "Mumbai",
          "Kochi",
          "Hyderabad",
          "Bangalore",
          "Kolkata",
          "Mumbai",
          "Bangalore",
          "Chandigarh",
          "Jaipur",
          "Hyderabad",
          "Chandigarh",
          "Jaipur",
          "Chennai",
          "Indore",
          "Bangalore",
          "Mumbai",
          "Dharamsala",
          "Indore",
          "Mumbai",
          "Dharamsala",
          "Chennai",
          "Mumbai",
          "Mumbai",
          "Dharamsala",
          "Bangalore",
          "Kolkata",
          "Mumbai",
          "Mumbai",
          "Chennai",
          "Chennai",
          "Chennai",
          "Kolkata",
          "Mumbai",
          "Jaipur",
          "Bangalore",
          "Visakhapatnam",
          "Jaipur",
          "Pune",
          "Visakhapatnam",
          "Bangalore",
          "Delhi",
          "Mumbai",
          "Chennai",
          "Chandigarh",
          "Kolkata",
          "Delhi",
          "Pune",
          "Kolkata",
          "Bangalore",
          "Mumbai",
          "Jaipur",
          "Bangalore",
          "Chandigarh",
          "Hyderabad",
          "Chennai",
          "Chandigarh",
          "Chennai",
          "Delhi",
          "Mumbai",
          "Cuttack",
          "Jaipur",
          "Pune",
          "Chandigarh",
          "Pune",
          "Delhi",
          "Chennai",
          "Kolkata",
          "Delhi",
          "Mumbai",
          "Chennai",
          "Cuttack",
          "Jaipur",
          "Bangalore",
          "Pune",
          "Chennai",
          "Kolkata",
          "Chandigarh",
          "Mumbai",
          "Bangalore",
          "Delhi",
          "Pune",
          "Hyderabad",
          "Mumbai",
          "Jaipur",
          "Pune",
          "Kolkata",
          "Chennai",
          "Jaipur",
          "Chandigarh",
          "Bangalore",
          "Kolkata",
          "Delhi",
          "Mumbai",
          "Dharamsala",
          "Delhi",
          "Hyderabad",
          "Dharamsala",
          "Pune",
          "Hyderabad",
          "Jaipur",
          "Pune",
          "Bangalore",
          "Chennai",
          "Chennai",
          "Kolkata",
          "Bangalore",
          "Hyderabad",
          "Delhi",
          "Chennai",
          "Pune",
          "Hyderabad",
          "Jaipur",
          "Mumbai",
          "Chandigarh",
          "Bangalore",
          "Pune",
          "Delhi",
          "Mumbai",
          "Chennai",
          "Kolkata",
          "Jaipur",
          "Chennai",
          "Chandigarh",
          "Bangalore",
          "Pune",
          "Jaipur",
          "Delhi",
          "Hyderabad",
          "Kolkata",
          "Bangalore",
          "Delhi",
          "Chandigarh",
          "Chennai",
          "Bangalore",
          "Dharamsala",
          "Kolkata",
          "Chennai",
          "Kolkata",
          "Jaipur",
          "Mumbai",
          "Chennai",
          "Raipur",
          "Jaipur",
          "Mumbai",
          "Pune",
          "Hyderabad",
          "Raipur",
          "Chennai",
          "Pune",
          "Kolkata",
          "Hyderabad",
          "Bangalore",
          "Mumbai",
          "Jaipur",
          "Bangalore",
          "Jaipur",
          "Mumbai",
          "Hyderabad",
          "Chandigarh",
          "Pune",
          "Delhi",
          "Pune",
          "Chandigarh",
          "Ranchi",
          "Jaipur",
          "Delhi",
          "Mumbai",
          "Ranchi",
          "Chennai",
          "Mumbai",
          "Chandigarh",
          "Hyderabad",
          "Dharamsala",
          "Pune",
          "Bangalore",
          "Hyderabad",
          "Delhi",
          "Delhi",
          "Kolkata",
          "Kolkata",
          "Abu Dhabi",
          "Sharjah",
          "Abu Dhabi",
          "Abu Dhabi",
          "Sharjah",
          "Abu Dhabi",
          "Sharjah",
          "Sharjah",
          "Abu Dhabi",
          "Abu Dhabi",
          "Sharjah",
          "Sharjah",
          "Abu Dhabi",
          "Ranchi",
          "Mumbai",
          "Delhi",
          "Bangalore",
          "Ahmedabad",
          "Delhi",
          "Mumbai",
          "Delhi",
          "Cuttack",
          "Ahmedabad",
          "Bangalore",
          "Delhi",
          "Mumbai",
          "Cuttack",
          "Bangalore",
          "Hyderabad",
          "Ranchi",
          "Bangalore",
          "Hyderabad",
          "Cuttack",
          "Ahmedabad",
          "Ranchi",
          "Hyderabad",
          "Ahmedabad",
          "Delhi",
          "Hyderabad",
          "Kolkata",
          "Chandigarh",
          "Kolkata",
          "Ranchi",
          "Mumbai",
          "Chandigarh",
          "Bangalore",
          "Kolkata",
          "Chandigarh",
          "Mumbai",
          "Kolkata",
          "Mumbai",
          "Mumbai",
          "Bangalore",
          "Kolkata",
          "Chennai",
          "Pune",
          "Chennai",
          "Kolkata",
          "Delhi",
          "Mumbai",
          "Bangalore",
          "Ahmedabad",
          "Kolkata",
          "Pune",
          "Visakhapatnam",
          "Mumbai",
          "Visakhapatnam",
          "Pune",
          "Ahmedabad",
          "Bangalore",
          "Delhi",
          "Ahmedabad",
          "Visakhapatnam",
          "Bangalore",
          "Delhi",
          "Ahmedabad",
          "Mumbai",
          "Chennai",
          "Delhi",
          "Chandigarh",
          "Kolkata",
          "Chennai",
          "Delhi",
          "Mumbai",
          "Bangalore",
          "Hyderabad",
          "Chandigarh",
          "Mumbai",
          "Chennai",
          "Kolkata",
          "Mumbai",
          "Bangalore",
          "Mumbai",
          "Chennai",
          "Kolkata",
          "Raipur",
          "Mumbai",
          "Chennai",
          "Hyderabad",
          "Raipur",
          "Chandigarh",
          "Mumbai",
          "Hyderabad",
          "Chandigarh",
          "Mumbai",
          "Hyderabad",
          "Mumbai",
          "Pune",
          "Ranchi",
          "Kolkata",
          "Mumbai",
          "Kolkata",
          "Chandigarh",
          "Bangalore",
          "Kolkata",
          "Rajkot",
          "Delhi",
          "Hyderabad",
          "Mumbai",
          "Chandigarh",
          "Bangalore",
          "Hyderabad",
          "Chandigarh",
          "Mumbai",
          "Rajkot",
          "Pune",
          "Delhi",
          "Hyderabad",
          "Rajkot",
          "Pune",
          "Chandigarh",
          "Hyderabad",
          "Delhi",
          "Mumbai",
          "Pune",
          "Delhi",
          "Hyderabad",
          "Rajkot",
          "Pune",
          "Bangalore",
          "Rajkot",
          "Kolkata",
          "Delhi",
          "Hyderabad",
          "Bangalore",
          "Chandigarh",
          "Visakhapatnam",
          "Kolkata",
          "Chandigarh",
          "Visakhapatnam",
          "Bangalore",
          "Hyderabad",
          "Visakhapatnam",
          "Bangalore",
          "Kolkata",
          "Chandigarh",
          "Visakhapatnam",
          "Kolkata",
          "Visakhapatnam",
          "Bangalore",
          "Kanpur",
          "Raipur",
          "Visakhapatnam",
          "Kanpur",
          "Kolkata",
          "Raipur",
          "Bangalore",
          "Delhi",
          "Delhi",
          "Bangalore",
          "Mumbai",
          "Mohali",
          "Kolkata",
          "Hyderabad",
          "Chennai",
          "Jaipur",
          "Hyderabad",
          "Bengaluru",
          "Mumbai",
          "Kolkata",
          "Bengaluru",
          "Mohali",
          "Kolkata",
          "Mumbai",
          "Jaipur",
          "Mohali",
          "Pune",
          "Kolkata",
          "Bengaluru",
          "Hyderabad",
          "Jaipur",
          "Delhi",
          "Mumbai",
          "Bengaluru",
          "Hyderabad",
          "Delhi",
          "Pune",
          "Jaipur",
          "Bengaluru",
          "Pune",
          "Bengaluru",
          "Delhi",
          "Kolkata",
          "Indore",
          "Pune",
          "Hyderabad",
          "Mumbai",
          "Indore",
          "Hyderabad",
          "Jaipur",
          "Kolkata",
          "Delhi",
          "Jaipur",
          "Indore",
          "Delhi",
          "Pune",
          "Mumbai",
          "Indore",
          "Kolkata",
          "Mumbai",
          "Bengaluru",
          "Delhi",
          "Jaipur",
          "Hyderabad",
          "Delhi",
          "Pune",
          "Mumbai",
          "Kolkata",
          "Kolkata",
          "Mumbai",
          "Chennai",
          "Kolkata",
          "Mumbai",
          "Jaipur",
          "Delhi",
          "Kolkata",
          "Bengaluru",
          "Hyderabad",
          "Mohali",
          "Delhi",
          "Hyderabad",
          "Chennai",
          "Mohali",
          "Jaipur",
          "Mumbai",
          "Delhi",
          "Bengaluru",
          "Chennai",
          "Hyderabad",
          "Bengaluru",
          "Jaipur",
          "Mohali",
          "Chennai",
          "Mumbai",
          "Jaipur",
          "Kolkata",
          "Mumbai",
          "Mohali",
          "Kolkata",
          "Hyderabad",
          "Mumbai",
          "Mohali",
          "Hyderabad",
          "Delhi",
          "Kolkata",
          "Jaipur",
          "Delhi",
          "Hyderabad",
          "Bengaluru",
          "Jaipur",
          "Chennai",
          "Bengaluru",
          "Kolkata",
          "Chennai",
          "Jaipur",
          "Delhi",
          "Kolkata",
          "Hyderabad",
          "Chennai",
          "Mumbai",
          "Mohali",
          "Delhi",
          "Bengaluru",
          "Mohali",
          "Mumbai",
          "Chennai",
          "Visakhapatnam",
          "Hyderabad"
         ],
         "legendgroup": "",
         "name": "",
         "showlegend": true,
         "type": "pie"
        }
       ],
       "layout": {
        "legend": {
         "tracegroupgap": 0
        },
        "template": {
         "data": {
          "bar": [
           {
            "error_x": {
             "color": "#2a3f5f"
            },
            "error_y": {
             "color": "#2a3f5f"
            },
            "marker": {
             "line": {
              "color": "#E5ECF6",
              "width": 0.5
             }
            },
            "type": "bar"
           }
          ],
          "barpolar": [
           {
            "marker": {
             "line": {
              "color": "#E5ECF6",
              "width": 0.5
             }
            },
            "type": "barpolar"
           }
          ],
          "carpet": [
           {
            "aaxis": {
             "endlinecolor": "#2a3f5f",
             "gridcolor": "white",
             "linecolor": "white",
             "minorgridcolor": "white",
             "startlinecolor": "#2a3f5f"
            },
            "baxis": {
             "endlinecolor": "#2a3f5f",
             "gridcolor": "white",
             "linecolor": "white",
             "minorgridcolor": "white",
             "startlinecolor": "#2a3f5f"
            },
            "type": "carpet"
           }
          ],
          "choropleth": [
           {
            "colorbar": {
             "outlinewidth": 0,
             "ticks": ""
            },
            "type": "choropleth"
           }
          ],
          "contour": [
           {
            "colorbar": {
             "outlinewidth": 0,
             "ticks": ""
            },
            "colorscale": [
             [
              0,
              "#0d0887"
             ],
             [
              0.1111111111111111,
              "#46039f"
             ],
             [
              0.2222222222222222,
              "#7201a8"
             ],
             [
              0.3333333333333333,
              "#9c179e"
             ],
             [
              0.4444444444444444,
              "#bd3786"
             ],
             [
              0.5555555555555556,
              "#d8576b"
             ],
             [
              0.6666666666666666,
              "#ed7953"
             ],
             [
              0.7777777777777778,
              "#fb9f3a"
             ],
             [
              0.8888888888888888,
              "#fdca26"
             ],
             [
              1,
              "#f0f921"
             ]
            ],
            "type": "contour"
           }
          ],
          "contourcarpet": [
           {
            "colorbar": {
             "outlinewidth": 0,
             "ticks": ""
            },
            "type": "contourcarpet"
           }
          ],
          "heatmap": [
           {
            "colorbar": {
             "outlinewidth": 0,
             "ticks": ""
            },
            "colorscale": [
             [
              0,
              "#0d0887"
             ],
             [
              0.1111111111111111,
              "#46039f"
             ],
             [
              0.2222222222222222,
              "#7201a8"
             ],
             [
              0.3333333333333333,
              "#9c179e"
             ],
             [
              0.4444444444444444,
              "#bd3786"
             ],
             [
              0.5555555555555556,
              "#d8576b"
             ],
             [
              0.6666666666666666,
              "#ed7953"
             ],
             [
              0.7777777777777778,
              "#fb9f3a"
             ],
             [
              0.8888888888888888,
              "#fdca26"
             ],
             [
              1,
              "#f0f921"
             ]
            ],
            "type": "heatmap"
           }
          ],
          "heatmapgl": [
           {
            "colorbar": {
             "outlinewidth": 0,
             "ticks": ""
            },
            "colorscale": [
             [
              0,
              "#0d0887"
             ],
             [
              0.1111111111111111,
              "#46039f"
             ],
             [
              0.2222222222222222,
              "#7201a8"
             ],
             [
              0.3333333333333333,
              "#9c179e"
             ],
             [
              0.4444444444444444,
              "#bd3786"
             ],
             [
              0.5555555555555556,
              "#d8576b"
             ],
             [
              0.6666666666666666,
              "#ed7953"
             ],
             [
              0.7777777777777778,
              "#fb9f3a"
             ],
             [
              0.8888888888888888,
              "#fdca26"
             ],
             [
              1,
              "#f0f921"
             ]
            ],
            "type": "heatmapgl"
           }
          ],
          "histogram": [
           {
            "marker": {
             "colorbar": {
              "outlinewidth": 0,
              "ticks": ""
             }
            },
            "type": "histogram"
           }
          ],
          "histogram2d": [
           {
            "colorbar": {
             "outlinewidth": 0,
             "ticks": ""
            },
            "colorscale": [
             [
              0,
              "#0d0887"
             ],
             [
              0.1111111111111111,
              "#46039f"
             ],
             [
              0.2222222222222222,
              "#7201a8"
             ],
             [
              0.3333333333333333,
              "#9c179e"
             ],
             [
              0.4444444444444444,
              "#bd3786"
             ],
             [
              0.5555555555555556,
              "#d8576b"
             ],
             [
              0.6666666666666666,
              "#ed7953"
             ],
             [
              0.7777777777777778,
              "#fb9f3a"
             ],
             [
              0.8888888888888888,
              "#fdca26"
             ],
             [
              1,
              "#f0f921"
             ]
            ],
            "type": "histogram2d"
           }
          ],
          "histogram2dcontour": [
           {
            "colorbar": {
             "outlinewidth": 0,
             "ticks": ""
            },
            "colorscale": [
             [
              0,
              "#0d0887"
             ],
             [
              0.1111111111111111,
              "#46039f"
             ],
             [
              0.2222222222222222,
              "#7201a8"
             ],
             [
              0.3333333333333333,
              "#9c179e"
             ],
             [
              0.4444444444444444,
              "#bd3786"
             ],
             [
              0.5555555555555556,
              "#d8576b"
             ],
             [
              0.6666666666666666,
              "#ed7953"
             ],
             [
              0.7777777777777778,
              "#fb9f3a"
             ],
             [
              0.8888888888888888,
              "#fdca26"
             ],
             [
              1,
              "#f0f921"
             ]
            ],
            "type": "histogram2dcontour"
           }
          ],
          "mesh3d": [
           {
            "colorbar": {
             "outlinewidth": 0,
             "ticks": ""
            },
            "type": "mesh3d"
           }
          ],
          "parcoords": [
           {
            "line": {
             "colorbar": {
              "outlinewidth": 0,
              "ticks": ""
             }
            },
            "type": "parcoords"
           }
          ],
          "pie": [
           {
            "automargin": true,
            "type": "pie"
           }
          ],
          "scatter": [
           {
            "marker": {
             "colorbar": {
              "outlinewidth": 0,
              "ticks": ""
             }
            },
            "type": "scatter"
           }
          ],
          "scatter3d": [
           {
            "line": {
             "colorbar": {
              "outlinewidth": 0,
              "ticks": ""
             }
            },
            "marker": {
             "colorbar": {
              "outlinewidth": 0,
              "ticks": ""
             }
            },
            "type": "scatter3d"
           }
          ],
          "scattercarpet": [
           {
            "marker": {
             "colorbar": {
              "outlinewidth": 0,
              "ticks": ""
             }
            },
            "type": "scattercarpet"
           }
          ],
          "scattergeo": [
           {
            "marker": {
             "colorbar": {
              "outlinewidth": 0,
              "ticks": ""
             }
            },
            "type": "scattergeo"
           }
          ],
          "scattergl": [
           {
            "marker": {
             "colorbar": {
              "outlinewidth": 0,
              "ticks": ""
             }
            },
            "type": "scattergl"
           }
          ],
          "scattermapbox": [
           {
            "marker": {
             "colorbar": {
              "outlinewidth": 0,
              "ticks": ""
             }
            },
            "type": "scattermapbox"
           }
          ],
          "scatterpolar": [
           {
            "marker": {
             "colorbar": {
              "outlinewidth": 0,
              "ticks": ""
             }
            },
            "type": "scatterpolar"
           }
          ],
          "scatterpolargl": [
           {
            "marker": {
             "colorbar": {
              "outlinewidth": 0,
              "ticks": ""
             }
            },
            "type": "scatterpolargl"
           }
          ],
          "scatterternary": [
           {
            "marker": {
             "colorbar": {
              "outlinewidth": 0,
              "ticks": ""
             }
            },
            "type": "scatterternary"
           }
          ],
          "surface": [
           {
            "colorbar": {
             "outlinewidth": 0,
             "ticks": ""
            },
            "colorscale": [
             [
              0,
              "#0d0887"
             ],
             [
              0.1111111111111111,
              "#46039f"
             ],
             [
              0.2222222222222222,
              "#7201a8"
             ],
             [
              0.3333333333333333,
              "#9c179e"
             ],
             [
              0.4444444444444444,
              "#bd3786"
             ],
             [
              0.5555555555555556,
              "#d8576b"
             ],
             [
              0.6666666666666666,
              "#ed7953"
             ],
             [
              0.7777777777777778,
              "#fb9f3a"
             ],
             [
              0.8888888888888888,
              "#fdca26"
             ],
             [
              1,
              "#f0f921"
             ]
            ],
            "type": "surface"
           }
          ],
          "table": [
           {
            "cells": {
             "fill": {
              "color": "#EBF0F8"
             },
             "line": {
              "color": "white"
             }
            },
            "header": {
             "fill": {
              "color": "#C8D4E3"
             },
             "line": {
              "color": "white"
             }
            },
            "type": "table"
           }
          ]
         },
         "layout": {
          "annotationdefaults": {
           "arrowcolor": "#2a3f5f",
           "arrowhead": 0,
           "arrowwidth": 1
          },
          "autotypenumbers": "strict",
          "coloraxis": {
           "colorbar": {
            "outlinewidth": 0,
            "ticks": ""
           }
          },
          "colorscale": {
           "diverging": [
            [
             0,
             "#8e0152"
            ],
            [
             0.1,
             "#c51b7d"
            ],
            [
             0.2,
             "#de77ae"
            ],
            [
             0.3,
             "#f1b6da"
            ],
            [
             0.4,
             "#fde0ef"
            ],
            [
             0.5,
             "#f7f7f7"
            ],
            [
             0.6,
             "#e6f5d0"
            ],
            [
             0.7,
             "#b8e186"
            ],
            [
             0.8,
             "#7fbc41"
            ],
            [
             0.9,
             "#4d9221"
            ],
            [
             1,
             "#276419"
            ]
           ],
           "sequential": [
            [
             0,
             "#0d0887"
            ],
            [
             0.1111111111111111,
             "#46039f"
            ],
            [
             0.2222222222222222,
             "#7201a8"
            ],
            [
             0.3333333333333333,
             "#9c179e"
            ],
            [
             0.4444444444444444,
             "#bd3786"
            ],
            [
             0.5555555555555556,
             "#d8576b"
            ],
            [
             0.6666666666666666,
             "#ed7953"
            ],
            [
             0.7777777777777778,
             "#fb9f3a"
            ],
            [
             0.8888888888888888,
             "#fdca26"
            ],
            [
             1,
             "#f0f921"
            ]
           ],
           "sequentialminus": [
            [
             0,
             "#0d0887"
            ],
            [
             0.1111111111111111,
             "#46039f"
            ],
            [
             0.2222222222222222,
             "#7201a8"
            ],
            [
             0.3333333333333333,
             "#9c179e"
            ],
            [
             0.4444444444444444,
             "#bd3786"
            ],
            [
             0.5555555555555556,
             "#d8576b"
            ],
            [
             0.6666666666666666,
             "#ed7953"
            ],
            [
             0.7777777777777778,
             "#fb9f3a"
            ],
            [
             0.8888888888888888,
             "#fdca26"
            ],
            [
             1,
             "#f0f921"
            ]
           ]
          },
          "colorway": [
           "#636efa",
           "#EF553B",
           "#00cc96",
           "#ab63fa",
           "#FFA15A",
           "#19d3f3",
           "#FF6692",
           "#B6E880",
           "#FF97FF",
           "#FECB52"
          ],
          "font": {
           "color": "#2a3f5f"
          },
          "geo": {
           "bgcolor": "white",
           "lakecolor": "white",
           "landcolor": "#E5ECF6",
           "showlakes": true,
           "showland": true,
           "subunitcolor": "white"
          },
          "hoverlabel": {
           "align": "left"
          },
          "hovermode": "closest",
          "mapbox": {
           "style": "light"
          },
          "paper_bgcolor": "white",
          "plot_bgcolor": "#E5ECF6",
          "polar": {
           "angularaxis": {
            "gridcolor": "white",
            "linecolor": "white",
            "ticks": ""
           },
           "bgcolor": "#E5ECF6",
           "radialaxis": {
            "gridcolor": "white",
            "linecolor": "white",
            "ticks": ""
           }
          },
          "scene": {
           "xaxis": {
            "backgroundcolor": "#E5ECF6",
            "gridcolor": "white",
            "gridwidth": 2,
            "linecolor": "white",
            "showbackground": true,
            "ticks": "",
            "zerolinecolor": "white"
           },
           "yaxis": {
            "backgroundcolor": "#E5ECF6",
            "gridcolor": "white",
            "gridwidth": 2,
            "linecolor": "white",
            "showbackground": true,
            "ticks": "",
            "zerolinecolor": "white"
           },
           "zaxis": {
            "backgroundcolor": "#E5ECF6",
            "gridcolor": "white",
            "gridwidth": 2,
            "linecolor": "white",
            "showbackground": true,
            "ticks": "",
            "zerolinecolor": "white"
           }
          },
          "shapedefaults": {
           "line": {
            "color": "#2a3f5f"
           }
          },
          "ternary": {
           "aaxis": {
            "gridcolor": "white",
            "linecolor": "white",
            "ticks": ""
           },
           "baxis": {
            "gridcolor": "white",
            "linecolor": "white",
            "ticks": ""
           },
           "bgcolor": "#E5ECF6",
           "caxis": {
            "gridcolor": "white",
            "linecolor": "white",
            "ticks": ""
           }
          },
          "title": {
           "x": 0.05
          },
          "xaxis": {
           "automargin": true,
           "gridcolor": "white",
           "linecolor": "white",
           "ticks": "",
           "title": {
            "standoff": 15
           },
           "zerolinecolor": "white",
           "zerolinewidth": 2
          },
          "yaxis": {
           "automargin": true,
           "gridcolor": "white",
           "linecolor": "white",
           "ticks": "",
           "title": {
            "standoff": 15
           },
           "zerolinecolor": "white",
           "zerolinewidth": 2
          }
         }
        },
        "title": {
         "text": "Ground Cities"
        }
       }
      },
      "text/html": [
       "<div>                            <div id=\"b36ee22a-5c18-4984-83a5-bcf281c19faa\" class=\"plotly-graph-div\" style=\"height:525px; width:100%;\"></div>            <script type=\"text/javascript\">                require([\"plotly\"], function(Plotly) {                    window.PLOTLYENV=window.PLOTLYENV || {};                                    if (document.getElementById(\"b36ee22a-5c18-4984-83a5-bcf281c19faa\")) {                    Plotly.newPlot(                        \"b36ee22a-5c18-4984-83a5-bcf281c19faa\",                        [{\"domain\": {\"x\": [0.0, 1.0], \"y\": [0.0, 1.0]}, \"hole\": 0.5, \"hovertemplate\": \"city=%{label}<extra></extra>\", \"labels\": [\"Hyderabad\", \"Pune\", \"Rajkot\", \"Indore\", \"Hyderabad\", \"Mumbai\", \"Indore\", \"Pune\", \"Mumbai\", \"Kolkata\", \"Bangalore\", \"Rajkot\", \"Kolkata\", \"Delhi\", \"Mumbai\", \"Bangalore\", \"Delhi\", \"Hyderabad\", \"Rajkot\", \"Hyderabad\", \"Indore\", \"Kolkata\", \"Mumbai\", \"Pune\", \"Rajkot\", \"Kolkata\", \"Mumbai\", \"Pune\", \"Bangalore\", \"Kolkata\", \"Chandigarh\", \"Pune\", \"Rajkot\", \"Chandigarh\", \"Hyderabad\", \"Mumbai\", \"Pune\", \"Delhi\", \"Kolkata\", \"Delhi\", \"Bangalore\", \"Hyderabad\", \"Delhi\", \"Bangalore\", \"Chandigarh\", \"Hyderabad\", \"Chandigarh\", \"Kanpur\", \"Mumbai\", \"Delhi\", \"Kanpur\", \"Kolkata\", \"Pune\", \"Delhi\", \"Mumbai\", \"Bangalore\", \"Bangalore\", \"Hyderabad\", \"Bangalore\", \"Chandigarh\", \"Delhi\", \"Mumbai\", \"Kolkata\", \"Jaipur\", \"Hyderabad\", \"Chennai\", \"Hyderabad\", \"Chandigarh\", \"Bangalore\", \"Chennai\", \"Mumbai\", \"Chandigarh\", \"Bangalore\", \"Kolkata\", \"Delhi\", \"Hyderabad\", \"Jaipur\", \"Chennai\", \"Hyderabad\", \"Chandigarh\", \"Mumbai\", \"Jaipur\", \"Bangalore\", \"Chennai\", \"Mumbai\", \"Delhi\", \"Kolkata\", \"Jaipur\", \"Bangalore\", \"Chennai\", \"Hyderabad\", \"Jaipur\", \"Chandigarh\", \"Kolkata\", \"Mumbai\", \"Chandigarh\", \"Delhi\", \"Mumbai\", \"Delhi\", \"Jaipur\", \"Hyderabad\", \"Kolkata\", \"Bangalore\", \"Kolkata\", \"Mumbai\", \"Chennai\", \"Chandigarh\", \"Delhi\", \"Chennai\", \"Bangalore\", \"Kolkata\", \"Jaipur\", \"Hyderabad\", \"Mumbai\", \"Mumbai\", \"Mumbai\", \"Cape Town\", \"Cape Town\", \"Cape Town\", \"Cape Town\", \"Port Elizabeth\", \"Durban\", \"Cape Town\", \"Durban\", \"Cape Town\", \"Durban\", \"Durban\", \"Port Elizabeth\", \"Cape Town\", \"Durban\", \"Port Elizabeth\", \"Centurion\", \"Durban\", \"Durban\", \"Centurion\", \"Centurion\", \"East London\", \"Durban\", \"Port Elizabeth\", \"Johannesburg\", \"Port Elizabeth\", \"Johannesburg\", \"East London\", \"Durban\", \"Durban\", \"Centurion\", \"Centurion\", \"Centurion\", \"East London\", \"Kimberley\", \"Kimberley\", \"Port Elizabeth\", \"Johannesburg\", \"Kimberley\", \"Centurion\", \"Centurion\", \"Durban\", \"Durban\", \"Durban\", \"Bloemfontein\", \"Port Elizabeth\", \"Johannesburg\", \"Johannesburg\", \"Bloemfontein\", \"Centurion\", \"Johannesburg\", \"Durban\", \"Durban\", \"Centurion\", \"Centurion\", \"Centurion\", \"Johannesburg\", \"Johannesburg\", \"Mumbai\", \"Mumbai\", \"Chandigarh\", \"Kolkata\", \"Chennai\", \"Ahmedabad\", \"Bangalore\", \"Kolkata\", \"Delhi\", \"Bangalore\", \"Delhi\", \"Cuttack\", \"Ahmedabad\", \"Mumbai\", \"Cuttack\", \"Chennai\", \"Mumbai\", \"Bangalore\", \"Chandigarh\", \"Mumbai\", \"Ahmedabad\", \"Chandigarh\", \"Bangalore\", \"Ahmedabad\", \"Mumbai\", \"Delhi\", \"Mumbai\", \"Chennai\", \"Delhi\", \"Kolkata\", \"Chandigarh\", \"Chennai\", \"Mumbai\", \"Kolkata\", \"Delhi\", \"Nagpur\", \"Chennai\", \"Jaipur\", \"Kolkata\", \"Bangalore\", \"Chandigarh\", \"Nagpur\", \"Bangalore\", \"Delhi\", \"Jaipur\", \"Nagpur\", \"Mumbai\", \"Chennai\", \"Jaipur\", \"Chennai\", \"Dharamsala\", \"Bangalore\", \"Kolkata\", \"Dharamsala\", \"Delhi\", \"Kolkata\", \"Mumbai\", \"Mumbai\", \"Mumbai\", \"Mumbai\", \"Chennai\", \"Hyderabad\", \"Kochi\", \"Delhi\", \"Mumbai\", \"Kolkata\", \"Jaipur\", \"Bangalore\", \"Chandigarh\", \"Mumbai\", \"Hyderabad\", \"Jaipur\", \"Mumbai\", \"Chennai\", \"Hyderabad\", \"Mumbai\", \"Kolkata\", \"Kochi\", \"Delhi\", \"Mumbai\", \"Kolkata\", \"Chandigarh\", \"Mumbai\", \"Kolkata\", \"Delhi\", \"Hyderabad\", \"Jaipur\", \"Chennai\", \"Delhi\", \"Mumbai\", \"Kochi\", \"Delhi\", \"Jaipur\", \"Bangalore\", \"Kochi\", \"Kolkata\", \"Jaipur\", \"Chennai\", \"Mumbai\", \"Delhi\", \"Hyderabad\", \"Chennai\", \"Mumbai\", \"Kochi\", \"Hyderabad\", \"Bangalore\", \"Kolkata\", \"Mumbai\", \"Bangalore\", \"Chandigarh\", \"Jaipur\", \"Hyderabad\", \"Chandigarh\", \"Jaipur\", \"Chennai\", \"Indore\", \"Bangalore\", \"Mumbai\", \"Dharamsala\", \"Indore\", \"Mumbai\", \"Dharamsala\", \"Chennai\", \"Mumbai\", \"Mumbai\", \"Dharamsala\", \"Bangalore\", \"Kolkata\", \"Mumbai\", \"Mumbai\", \"Chennai\", \"Chennai\", \"Chennai\", \"Kolkata\", \"Mumbai\", \"Jaipur\", \"Bangalore\", \"Visakhapatnam\", \"Jaipur\", \"Pune\", \"Visakhapatnam\", \"Bangalore\", \"Delhi\", \"Mumbai\", \"Chennai\", \"Chandigarh\", \"Kolkata\", \"Delhi\", \"Pune\", \"Kolkata\", \"Bangalore\", \"Mumbai\", \"Jaipur\", \"Bangalore\", \"Chandigarh\", \"Hyderabad\", \"Chennai\", \"Chandigarh\", \"Chennai\", \"Delhi\", \"Mumbai\", \"Cuttack\", \"Jaipur\", \"Pune\", \"Chandigarh\", \"Pune\", \"Delhi\", \"Chennai\", \"Kolkata\", \"Delhi\", \"Mumbai\", \"Chennai\", \"Cuttack\", \"Jaipur\", \"Bangalore\", \"Pune\", \"Chennai\", \"Kolkata\", \"Chandigarh\", \"Mumbai\", \"Bangalore\", \"Delhi\", \"Pune\", \"Hyderabad\", \"Mumbai\", \"Jaipur\", \"Pune\", \"Kolkata\", \"Chennai\", \"Jaipur\", \"Chandigarh\", \"Bangalore\", \"Kolkata\", \"Delhi\", \"Mumbai\", \"Dharamsala\", \"Delhi\", \"Hyderabad\", \"Dharamsala\", \"Pune\", \"Hyderabad\", \"Jaipur\", \"Pune\", \"Bangalore\", \"Chennai\", \"Chennai\", \"Kolkata\", \"Bangalore\", \"Hyderabad\", \"Delhi\", \"Chennai\", \"Pune\", \"Hyderabad\", \"Jaipur\", \"Mumbai\", \"Chandigarh\", \"Bangalore\", \"Pune\", \"Delhi\", \"Mumbai\", \"Chennai\", \"Kolkata\", \"Jaipur\", \"Chennai\", \"Chandigarh\", \"Bangalore\", \"Pune\", \"Jaipur\", \"Delhi\", \"Hyderabad\", \"Kolkata\", \"Bangalore\", \"Delhi\", \"Chandigarh\", \"Chennai\", \"Bangalore\", \"Dharamsala\", \"Kolkata\", \"Chennai\", \"Kolkata\", \"Jaipur\", \"Mumbai\", \"Chennai\", \"Raipur\", \"Jaipur\", \"Mumbai\", \"Pune\", \"Hyderabad\", \"Raipur\", \"Chennai\", \"Pune\", \"Kolkata\", \"Hyderabad\", \"Bangalore\", \"Mumbai\", \"Jaipur\", \"Bangalore\", \"Jaipur\", \"Mumbai\", \"Hyderabad\", \"Chandigarh\", \"Pune\", \"Delhi\", \"Pune\", \"Chandigarh\", \"Ranchi\", \"Jaipur\", \"Delhi\", \"Mumbai\", \"Ranchi\", \"Chennai\", \"Mumbai\", \"Chandigarh\", \"Hyderabad\", \"Dharamsala\", \"Pune\", \"Bangalore\", \"Hyderabad\", \"Delhi\", \"Delhi\", \"Kolkata\", \"Kolkata\", \"Abu Dhabi\", \"Sharjah\", \"Abu Dhabi\", \"Abu Dhabi\", \"Sharjah\", \"Abu Dhabi\", \"Sharjah\", \"Sharjah\", \"Abu Dhabi\", \"Abu Dhabi\", \"Sharjah\", \"Sharjah\", \"Abu Dhabi\", \"Ranchi\", \"Mumbai\", \"Delhi\", \"Bangalore\", \"Ahmedabad\", \"Delhi\", \"Mumbai\", \"Delhi\", \"Cuttack\", \"Ahmedabad\", \"Bangalore\", \"Delhi\", \"Mumbai\", \"Cuttack\", \"Bangalore\", \"Hyderabad\", \"Ranchi\", \"Bangalore\", \"Hyderabad\", \"Cuttack\", \"Ahmedabad\", \"Ranchi\", \"Hyderabad\", \"Ahmedabad\", \"Delhi\", \"Hyderabad\", \"Kolkata\", \"Chandigarh\", \"Kolkata\", \"Ranchi\", \"Mumbai\", \"Chandigarh\", \"Bangalore\", \"Kolkata\", \"Chandigarh\", \"Mumbai\", \"Kolkata\", \"Mumbai\", \"Mumbai\", \"Bangalore\", \"Kolkata\", \"Chennai\", \"Pune\", \"Chennai\", \"Kolkata\", \"Delhi\", \"Mumbai\", \"Bangalore\", \"Ahmedabad\", \"Kolkata\", \"Pune\", \"Visakhapatnam\", \"Mumbai\", \"Visakhapatnam\", \"Pune\", \"Ahmedabad\", \"Bangalore\", \"Delhi\", \"Ahmedabad\", \"Visakhapatnam\", \"Bangalore\", \"Delhi\", \"Ahmedabad\", \"Mumbai\", \"Chennai\", \"Delhi\", \"Chandigarh\", \"Kolkata\", \"Chennai\", \"Delhi\", \"Mumbai\", \"Bangalore\", \"Hyderabad\", \"Chandigarh\", \"Mumbai\", \"Chennai\", \"Kolkata\", \"Mumbai\", \"Bangalore\", \"Mumbai\", \"Chennai\", \"Kolkata\", \"Raipur\", \"Mumbai\", \"Chennai\", \"Hyderabad\", \"Raipur\", \"Chandigarh\", \"Mumbai\", \"Hyderabad\", \"Chandigarh\", \"Mumbai\", \"Hyderabad\", \"Mumbai\", \"Pune\", \"Ranchi\", \"Kolkata\", \"Mumbai\", \"Kolkata\", \"Chandigarh\", \"Bangalore\", \"Kolkata\", \"Rajkot\", \"Delhi\", \"Hyderabad\", \"Mumbai\", \"Chandigarh\", \"Bangalore\", \"Hyderabad\", \"Chandigarh\", \"Mumbai\", \"Rajkot\", \"Pune\", \"Delhi\", \"Hyderabad\", \"Rajkot\", \"Pune\", \"Chandigarh\", \"Hyderabad\", \"Delhi\", \"Mumbai\", \"Pune\", \"Delhi\", \"Hyderabad\", \"Rajkot\", \"Pune\", \"Bangalore\", \"Rajkot\", \"Kolkata\", \"Delhi\", \"Hyderabad\", \"Bangalore\", \"Chandigarh\", \"Visakhapatnam\", \"Kolkata\", \"Chandigarh\", \"Visakhapatnam\", \"Bangalore\", \"Hyderabad\", \"Visakhapatnam\", \"Bangalore\", \"Kolkata\", \"Chandigarh\", \"Visakhapatnam\", \"Kolkata\", \"Visakhapatnam\", \"Bangalore\", \"Kanpur\", \"Raipur\", \"Visakhapatnam\", \"Kanpur\", \"Kolkata\", \"Raipur\", \"Bangalore\", \"Delhi\", \"Delhi\", \"Bangalore\", \"Mumbai\", \"Mohali\", \"Kolkata\", \"Hyderabad\", \"Chennai\", \"Jaipur\", \"Hyderabad\", \"Bengaluru\", \"Mumbai\", \"Kolkata\", \"Bengaluru\", \"Mohali\", \"Kolkata\", \"Mumbai\", \"Jaipur\", \"Mohali\", \"Pune\", \"Kolkata\", \"Bengaluru\", \"Hyderabad\", \"Jaipur\", \"Delhi\", \"Mumbai\", \"Bengaluru\", \"Hyderabad\", \"Delhi\", \"Pune\", \"Jaipur\", \"Bengaluru\", \"Pune\", \"Bengaluru\", \"Delhi\", \"Kolkata\", \"Indore\", \"Pune\", \"Hyderabad\", \"Mumbai\", \"Indore\", \"Hyderabad\", \"Jaipur\", \"Kolkata\", \"Delhi\", \"Jaipur\", \"Indore\", \"Delhi\", \"Pune\", \"Mumbai\", \"Indore\", \"Kolkata\", \"Mumbai\", \"Bengaluru\", \"Delhi\", \"Jaipur\", \"Hyderabad\", \"Delhi\", \"Pune\", \"Mumbai\", \"Kolkata\", \"Kolkata\", \"Mumbai\", \"Chennai\", \"Kolkata\", \"Mumbai\", \"Jaipur\", \"Delhi\", \"Kolkata\", \"Bengaluru\", \"Hyderabad\", \"Mohali\", \"Delhi\", \"Hyderabad\", \"Chennai\", \"Mohali\", \"Jaipur\", \"Mumbai\", \"Delhi\", \"Bengaluru\", \"Chennai\", \"Hyderabad\", \"Bengaluru\", \"Jaipur\", \"Mohali\", \"Chennai\", \"Mumbai\", \"Jaipur\", \"Kolkata\", \"Mumbai\", \"Mohali\", \"Kolkata\", \"Hyderabad\", \"Mumbai\", \"Mohali\", \"Hyderabad\", \"Delhi\", \"Kolkata\", \"Jaipur\", \"Delhi\", \"Hyderabad\", \"Bengaluru\", \"Jaipur\", \"Chennai\", \"Bengaluru\", \"Kolkata\", \"Chennai\", \"Jaipur\", \"Delhi\", \"Kolkata\", \"Hyderabad\", \"Chennai\", \"Mumbai\", \"Mohali\", \"Delhi\", \"Bengaluru\", \"Mohali\", \"Mumbai\", \"Chennai\", \"Visakhapatnam\", \"Hyderabad\"], \"legendgroup\": \"\", \"name\": \"\", \"showlegend\": true, \"type\": \"pie\"}],                        {\"legend\": {\"tracegroupgap\": 0}, \"template\": {\"data\": {\"bar\": [{\"error_x\": {\"color\": \"#2a3f5f\"}, \"error_y\": {\"color\": \"#2a3f5f\"}, \"marker\": {\"line\": {\"color\": \"#E5ECF6\", \"width\": 0.5}}, \"type\": \"bar\"}], \"barpolar\": [{\"marker\": {\"line\": {\"color\": \"#E5ECF6\", \"width\": 0.5}}, \"type\": \"barpolar\"}], \"carpet\": [{\"aaxis\": {\"endlinecolor\": \"#2a3f5f\", \"gridcolor\": \"white\", \"linecolor\": \"white\", \"minorgridcolor\": \"white\", \"startlinecolor\": \"#2a3f5f\"}, \"baxis\": {\"endlinecolor\": \"#2a3f5f\", \"gridcolor\": \"white\", \"linecolor\": \"white\", \"minorgridcolor\": \"white\", \"startlinecolor\": \"#2a3f5f\"}, \"type\": \"carpet\"}], \"choropleth\": [{\"colorbar\": {\"outlinewidth\": 0, \"ticks\": \"\"}, \"type\": \"choropleth\"}], \"contour\": [{\"colorbar\": {\"outlinewidth\": 0, \"ticks\": \"\"}, \"colorscale\": [[0.0, \"#0d0887\"], [0.1111111111111111, \"#46039f\"], [0.2222222222222222, \"#7201a8\"], [0.3333333333333333, \"#9c179e\"], [0.4444444444444444, \"#bd3786\"], [0.5555555555555556, \"#d8576b\"], [0.6666666666666666, \"#ed7953\"], [0.7777777777777778, \"#fb9f3a\"], [0.8888888888888888, \"#fdca26\"], [1.0, \"#f0f921\"]], \"type\": \"contour\"}], \"contourcarpet\": [{\"colorbar\": {\"outlinewidth\": 0, \"ticks\": \"\"}, \"type\": \"contourcarpet\"}], \"heatmap\": [{\"colorbar\": {\"outlinewidth\": 0, \"ticks\": \"\"}, \"colorscale\": [[0.0, \"#0d0887\"], [0.1111111111111111, \"#46039f\"], [0.2222222222222222, \"#7201a8\"], [0.3333333333333333, \"#9c179e\"], [0.4444444444444444, \"#bd3786\"], [0.5555555555555556, \"#d8576b\"], [0.6666666666666666, \"#ed7953\"], [0.7777777777777778, \"#fb9f3a\"], [0.8888888888888888, \"#fdca26\"], [1.0, \"#f0f921\"]], \"type\": \"heatmap\"}], \"heatmapgl\": [{\"colorbar\": {\"outlinewidth\": 0, \"ticks\": \"\"}, \"colorscale\": [[0.0, \"#0d0887\"], [0.1111111111111111, \"#46039f\"], [0.2222222222222222, \"#7201a8\"], [0.3333333333333333, \"#9c179e\"], [0.4444444444444444, \"#bd3786\"], [0.5555555555555556, \"#d8576b\"], [0.6666666666666666, \"#ed7953\"], [0.7777777777777778, \"#fb9f3a\"], [0.8888888888888888, \"#fdca26\"], [1.0, \"#f0f921\"]], \"type\": \"heatmapgl\"}], \"histogram\": [{\"marker\": {\"colorbar\": {\"outlinewidth\": 0, \"ticks\": \"\"}}, \"type\": \"histogram\"}], \"histogram2d\": [{\"colorbar\": {\"outlinewidth\": 0, \"ticks\": \"\"}, \"colorscale\": [[0.0, \"#0d0887\"], [0.1111111111111111, \"#46039f\"], [0.2222222222222222, \"#7201a8\"], [0.3333333333333333, \"#9c179e\"], [0.4444444444444444, \"#bd3786\"], [0.5555555555555556, \"#d8576b\"], [0.6666666666666666, \"#ed7953\"], [0.7777777777777778, \"#fb9f3a\"], [0.8888888888888888, \"#fdca26\"], [1.0, \"#f0f921\"]], \"type\": \"histogram2d\"}], \"histogram2dcontour\": [{\"colorbar\": {\"outlinewidth\": 0, \"ticks\": \"\"}, \"colorscale\": [[0.0, \"#0d0887\"], [0.1111111111111111, \"#46039f\"], [0.2222222222222222, \"#7201a8\"], [0.3333333333333333, \"#9c179e\"], [0.4444444444444444, \"#bd3786\"], [0.5555555555555556, \"#d8576b\"], [0.6666666666666666, \"#ed7953\"], [0.7777777777777778, \"#fb9f3a\"], [0.8888888888888888, \"#fdca26\"], [1.0, \"#f0f921\"]], \"type\": \"histogram2dcontour\"}], \"mesh3d\": [{\"colorbar\": {\"outlinewidth\": 0, \"ticks\": \"\"}, \"type\": \"mesh3d\"}], \"parcoords\": [{\"line\": {\"colorbar\": {\"outlinewidth\": 0, \"ticks\": \"\"}}, \"type\": \"parcoords\"}], \"pie\": [{\"automargin\": true, \"type\": \"pie\"}], \"scatter\": [{\"marker\": {\"colorbar\": {\"outlinewidth\": 0, \"ticks\": \"\"}}, \"type\": \"scatter\"}], \"scatter3d\": [{\"line\": {\"colorbar\": {\"outlinewidth\": 0, \"ticks\": \"\"}}, \"marker\": {\"colorbar\": {\"outlinewidth\": 0, \"ticks\": \"\"}}, \"type\": \"scatter3d\"}], \"scattercarpet\": [{\"marker\": {\"colorbar\": {\"outlinewidth\": 0, \"ticks\": \"\"}}, \"type\": \"scattercarpet\"}], \"scattergeo\": [{\"marker\": {\"colorbar\": {\"outlinewidth\": 0, \"ticks\": \"\"}}, \"type\": \"scattergeo\"}], \"scattergl\": [{\"marker\": {\"colorbar\": {\"outlinewidth\": 0, \"ticks\": \"\"}}, \"type\": \"scattergl\"}], \"scattermapbox\": [{\"marker\": {\"colorbar\": {\"outlinewidth\": 0, \"ticks\": \"\"}}, \"type\": \"scattermapbox\"}], \"scatterpolar\": [{\"marker\": {\"colorbar\": {\"outlinewidth\": 0, \"ticks\": \"\"}}, \"type\": \"scatterpolar\"}], \"scatterpolargl\": [{\"marker\": {\"colorbar\": {\"outlinewidth\": 0, \"ticks\": \"\"}}, \"type\": \"scatterpolargl\"}], \"scatterternary\": [{\"marker\": {\"colorbar\": {\"outlinewidth\": 0, \"ticks\": \"\"}}, \"type\": \"scatterternary\"}], \"surface\": [{\"colorbar\": {\"outlinewidth\": 0, \"ticks\": \"\"}, \"colorscale\": [[0.0, \"#0d0887\"], [0.1111111111111111, \"#46039f\"], [0.2222222222222222, \"#7201a8\"], [0.3333333333333333, \"#9c179e\"], [0.4444444444444444, \"#bd3786\"], [0.5555555555555556, \"#d8576b\"], [0.6666666666666666, \"#ed7953\"], [0.7777777777777778, \"#fb9f3a\"], [0.8888888888888888, \"#fdca26\"], [1.0, \"#f0f921\"]], \"type\": \"surface\"}], \"table\": [{\"cells\": {\"fill\": {\"color\": \"#EBF0F8\"}, \"line\": {\"color\": \"white\"}}, \"header\": {\"fill\": {\"color\": \"#C8D4E3\"}, \"line\": {\"color\": \"white\"}}, \"type\": \"table\"}]}, \"layout\": {\"annotationdefaults\": {\"arrowcolor\": \"#2a3f5f\", \"arrowhead\": 0, \"arrowwidth\": 1}, \"autotypenumbers\": \"strict\", \"coloraxis\": {\"colorbar\": {\"outlinewidth\": 0, \"ticks\": \"\"}}, \"colorscale\": {\"diverging\": [[0, \"#8e0152\"], [0.1, \"#c51b7d\"], [0.2, \"#de77ae\"], [0.3, \"#f1b6da\"], [0.4, \"#fde0ef\"], [0.5, \"#f7f7f7\"], [0.6, \"#e6f5d0\"], [0.7, \"#b8e186\"], [0.8, \"#7fbc41\"], [0.9, \"#4d9221\"], [1, \"#276419\"]], \"sequential\": [[0.0, \"#0d0887\"], [0.1111111111111111, \"#46039f\"], [0.2222222222222222, \"#7201a8\"], [0.3333333333333333, \"#9c179e\"], [0.4444444444444444, \"#bd3786\"], [0.5555555555555556, \"#d8576b\"], [0.6666666666666666, \"#ed7953\"], [0.7777777777777778, \"#fb9f3a\"], [0.8888888888888888, \"#fdca26\"], [1.0, \"#f0f921\"]], \"sequentialminus\": [[0.0, \"#0d0887\"], [0.1111111111111111, \"#46039f\"], [0.2222222222222222, \"#7201a8\"], [0.3333333333333333, \"#9c179e\"], [0.4444444444444444, \"#bd3786\"], [0.5555555555555556, \"#d8576b\"], [0.6666666666666666, \"#ed7953\"], [0.7777777777777778, \"#fb9f3a\"], [0.8888888888888888, \"#fdca26\"], [1.0, \"#f0f921\"]]}, \"colorway\": [\"#636efa\", \"#EF553B\", \"#00cc96\", \"#ab63fa\", \"#FFA15A\", \"#19d3f3\", \"#FF6692\", \"#B6E880\", \"#FF97FF\", \"#FECB52\"], \"font\": {\"color\": \"#2a3f5f\"}, \"geo\": {\"bgcolor\": \"white\", \"lakecolor\": \"white\", \"landcolor\": \"#E5ECF6\", \"showlakes\": true, \"showland\": true, \"subunitcolor\": \"white\"}, \"hoverlabel\": {\"align\": \"left\"}, \"hovermode\": \"closest\", \"mapbox\": {\"style\": \"light\"}, \"paper_bgcolor\": \"white\", \"plot_bgcolor\": \"#E5ECF6\", \"polar\": {\"angularaxis\": {\"gridcolor\": \"white\", \"linecolor\": \"white\", \"ticks\": \"\"}, \"bgcolor\": \"#E5ECF6\", \"radialaxis\": {\"gridcolor\": \"white\", \"linecolor\": \"white\", \"ticks\": \"\"}}, \"scene\": {\"xaxis\": {\"backgroundcolor\": \"#E5ECF6\", \"gridcolor\": \"white\", \"gridwidth\": 2, \"linecolor\": \"white\", \"showbackground\": true, \"ticks\": \"\", \"zerolinecolor\": \"white\"}, \"yaxis\": {\"backgroundcolor\": \"#E5ECF6\", \"gridcolor\": \"white\", \"gridwidth\": 2, \"linecolor\": \"white\", \"showbackground\": true, \"ticks\": \"\", \"zerolinecolor\": \"white\"}, \"zaxis\": {\"backgroundcolor\": \"#E5ECF6\", \"gridcolor\": \"white\", \"gridwidth\": 2, \"linecolor\": \"white\", \"showbackground\": true, \"ticks\": \"\", \"zerolinecolor\": \"white\"}}, \"shapedefaults\": {\"line\": {\"color\": \"#2a3f5f\"}}, \"ternary\": {\"aaxis\": {\"gridcolor\": \"white\", \"linecolor\": \"white\", \"ticks\": \"\"}, \"baxis\": {\"gridcolor\": \"white\", \"linecolor\": \"white\", \"ticks\": \"\"}, \"bgcolor\": \"#E5ECF6\", \"caxis\": {\"gridcolor\": \"white\", \"linecolor\": \"white\", \"ticks\": \"\"}}, \"title\": {\"x\": 0.05}, \"xaxis\": {\"automargin\": true, \"gridcolor\": \"white\", \"linecolor\": \"white\", \"ticks\": \"\", \"title\": {\"standoff\": 15}, \"zerolinecolor\": \"white\", \"zerolinewidth\": 2}, \"yaxis\": {\"automargin\": true, \"gridcolor\": \"white\", \"linecolor\": \"white\", \"ticks\": \"\", \"title\": {\"standoff\": 15}, \"zerolinecolor\": \"white\", \"zerolinewidth\": 2}}}, \"title\": {\"text\": \"Ground Cities\"}},                        {\"responsive\": true}                    ).then(function(){\n",
       "                            \n",
       "var gd = document.getElementById('b36ee22a-5c18-4984-83a5-bcf281c19faa');\n",
       "var x = new MutationObserver(function (mutations, observer) {{\n",
       "        var display = window.getComputedStyle(gd).display;\n",
       "        if (!display || display === 'none') {{\n",
       "            console.log([gd, 'removed!']);\n",
       "            Plotly.purge(gd);\n",
       "            observer.disconnect();\n",
       "        }}\n",
       "}});\n",
       "\n",
       "// Listen for the removal of the full notebook cells\n",
       "var notebookContainer = gd.closest('#notebook-container');\n",
       "if (notebookContainer) {{\n",
       "    x.observe(notebookContainer, {childList: true});\n",
       "}}\n",
       "\n",
       "// Listen for the clearing of the current output cell\n",
       "var outputEl = gd.closest('.output');\n",
       "if (outputEl) {{\n",
       "    x.observe(outputEl, {childList: true});\n",
       "}}\n",
       "\n",
       "                        })                };                });            </script>        </div>"
      ]
     },
     "metadata": {},
     "output_type": "display_data"
    }
   ],
   "source": [
    "px.pie(df_mat, \"city\", hole=0.5, title=\"Ground Cities\")"
   ]
  },
  {
   "cell_type": "code",
   "execution_count": 107,
   "metadata": {},
   "outputs": [],
   "source": [
    "## Function to plot stacked bar chart\n",
    "def stacked_plot(x, y):\n",
    "    sns.set(palette='nipy_spectral')\n",
    "    tab1 = pd.crosstab(x,y,margins=True)\n",
    "    print(tab1)\n",
    "    print('-'*120)\n",
    "    tab = pd.crosstab(x,y,normalize='index')\n",
    "    tab.plot(kind='bar',stacked=True,figsize=(10,5))\n",
    "    plt.show()"
   ]
  },
  {
   "cell_type": "code",
   "execution_count": 108,
   "metadata": {},
   "outputs": [
    {
     "data": {
      "image/png": "[encoded data removed]",
      "text/plain": [
       "<Figure size 2880x576 with 1 Axes>"
      ]
     },
     "metadata": {
      "needs_background": "light"
     },
     "output_type": "display_data"
    }
   ],
   "source": [
    "plt.figure(figsize=(40, 8))\n",
    "sns.countplot(df_mat.season, hue=df_mat.city, palette=sns.palettes.color_palette(\"gist_earth\"))\n",
    "plt.show()"
   ]
  },
  {
   "cell_type": "code",
   "execution_count": 109,
   "metadata": {},
   "outputs": [
    {
     "data": {
      "text/plain": [
       "count                743\n",
       "unique                15\n",
       "top       Mumbai Indians\n",
       "freq                 109\n",
       "Name: winner, dtype: object"
      ]
     },
     "execution_count": 109,
     "metadata": {},
     "output_type": "execute_result"
    }
   ],
   "source": [
    "df_mat.winner.describe()"
   ]
  },
  {
   "cell_type": "code",
   "execution_count": 110,
   "metadata": {},
   "outputs": [
    {
     "data": {
      "image/png": "[encoded data removed]",
      "text/plain": [
       "<Figure size 864x432 with 1 Axes>"
      ]
     },
     "metadata": {},
     "output_type": "display_data"
    }
   ],
   "source": [
    "sns.set(palette='rainbow_r')\n",
    "plt.xticks(rotation=90)\n",
    "plt.title(\"Team's Winning Percentage\", fontsize=30)\n",
    "ax = df_mat.winner.value_counts().plot(kind=\"bar\")\n",
    "per_on_bar(ax, df_mat.winner)\n",
    "plt.show()"
   ]
  },
  {
   "cell_type": "code",
   "execution_count": 111,
   "metadata": {},
   "outputs": [
    {
     "data": {
      "image/png": "[encoded data removed]",
      "text/plain": [
       "<Figure size 864x432 with 1 Axes>"
      ]
     },
     "metadata": {},
     "output_type": "display_data"
    }
   ],
   "source": [
    "plt.title(\"Toss Decision\", fontsize=30)\n",
    "ax = sns.countplot(df_mat.toss_decision, palette=sns.palettes.color_palette(\"winter_r\"))\n",
    "per_on_bar(ax, df_mat.toss_decision)"
   ]
  },
  {
   "cell_type": "code",
   "execution_count": 112,
   "metadata": {},
   "outputs": [
    {
     "data": {
      "text/html": [
       "<div>\n",
       "<style scoped>\n",
       "    .dataframe tbody tr th:only-of-type {\n",
       "        vertical-align: middle;\n",
       "    }\n",
       "\n",
       "    .dataframe tbody tr th {\n",
       "        vertical-align: top;\n",
       "    }\n",
       "\n",
       "    .dataframe thead th {\n",
       "        text-align: right;\n",
       "    }\n",
       "</style>\n",
       "<table border=\"1\" class=\"dataframe\">\n",
       "  <thead>\n",
       "    <tr style=\"text-align: right;\">\n",
       "      <th></th>\n",
       "      <th>winner</th>\n",
       "      <th>player_of_match</th>\n",
       "      <th>win_by_runs</th>\n",
       "    </tr>\n",
       "    <tr>\n",
       "      <th>id</th>\n",
       "      <th></th>\n",
       "      <th></th>\n",
       "      <th></th>\n",
       "    </tr>\n",
       "  </thead>\n",
       "  <tbody>\n",
       "    <tr>\n",
       "      <th>44</th>\n",
       "      <td>Mumbai Indians</td>\n",
       "      <td>LMP Simmons</td>\n",
       "      <td>146</td>\n",
       "    </tr>\n",
       "  </tbody>\n",
       "</table>\n",
       "</div>"
      ],
      "text/plain": [
       "            winner player_of_match  win_by_runs\n",
       "id                                             \n",
       "44  Mumbai Indians     LMP Simmons          146"
      ]
     },
     "execution_count": 112,
     "metadata": {},
     "output_type": "execute_result"
    }
   ],
   "source": [
    "df_mat[df_mat.win_by_runs==146][[\"winner\", \"player_of_match\", \"win_by_runs\"]]"
   ]
  },
  {
   "cell_type": "markdown",
   "metadata": {},
   "source": [
    "Mumbai Indian were the tream that **WON** by maximum score of 146."
   ]
  },
  {
   "cell_type": "code",
   "execution_count": 113,
   "metadata": {},
   "outputs": [
    {
     "data": {
      "text/html": [
       "<div>\n",
       "<style scoped>\n",
       "    .dataframe tbody tr th:only-of-type {\n",
       "        vertical-align: middle;\n",
       "    }\n",
       "\n",
       "    .dataframe tbody tr th {\n",
       "        vertical-align: top;\n",
       "    }\n",
       "\n",
       "    .dataframe thead th {\n",
       "        text-align: right;\n",
       "    }\n",
       "</style>\n",
       "<table border=\"1\" class=\"dataframe\">\n",
       "  <thead>\n",
       "    <tr style=\"text-align: right;\">\n",
       "      <th></th>\n",
       "      <th>winner</th>\n",
       "      <th>player_of_match</th>\n",
       "      <th>win_by_wickets</th>\n",
       "    </tr>\n",
       "    <tr>\n",
       "      <th>id</th>\n",
       "      <th></th>\n",
       "      <th></th>\n",
       "      <th></th>\n",
       "    </tr>\n",
       "  </thead>\n",
       "  <tbody>\n",
       "    <tr>\n",
       "      <th>3</th>\n",
       "      <td>Kolkata Knight Riders</td>\n",
       "      <td>CA Lynn</td>\n",
       "      <td>10</td>\n",
       "    </tr>\n",
       "    <tr>\n",
       "      <th>35</th>\n",
       "      <td>Kings XI Punjab</td>\n",
       "      <td>Sandeep Sharma</td>\n",
       "      <td>10</td>\n",
       "    </tr>\n",
       "    <tr>\n",
       "      <th>72</th>\n",
       "      <td>Deccan Chargers</td>\n",
       "      <td>AC Gilchrist</td>\n",
       "      <td>10</td>\n",
       "    </tr>\n",
       "    <tr>\n",
       "      <th>120</th>\n",
       "      <td>Delhi Daredevils</td>\n",
       "      <td>DL Vettori</td>\n",
       "      <td>10</td>\n",
       "    </tr>\n",
       "    <tr>\n",
       "      <th>184</th>\n",
       "      <td>Royal Challengers Bangalore</td>\n",
       "      <td>JH Kallis</td>\n",
       "      <td>10</td>\n",
       "    </tr>\n",
       "    <tr>\n",
       "      <th>299</th>\n",
       "      <td>Rajasthan Royals</td>\n",
       "      <td>SR Watson</td>\n",
       "      <td>10</td>\n",
       "    </tr>\n",
       "    <tr>\n",
       "      <th>377</th>\n",
       "      <td>Mumbai Indians</td>\n",
       "      <td>DR Smith</td>\n",
       "      <td>10</td>\n",
       "    </tr>\n",
       "    <tr>\n",
       "      <th>391</th>\n",
       "      <td>Chennai Super Kings</td>\n",
       "      <td>MEK Hussey</td>\n",
       "      <td>10</td>\n",
       "    </tr>\n",
       "    <tr>\n",
       "      <th>543</th>\n",
       "      <td>Royal Challengers Bangalore</td>\n",
       "      <td>VR Aaron</td>\n",
       "      <td>10</td>\n",
       "    </tr>\n",
       "    <tr>\n",
       "      <th>591</th>\n",
       "      <td>Sunrisers Hyderabad</td>\n",
       "      <td>B Kumar</td>\n",
       "      <td>10</td>\n",
       "    </tr>\n",
       "    <tr>\n",
       "      <th>7941</th>\n",
       "      <td>Royal Challengers Bangalore</td>\n",
       "      <td>UT Yadav</td>\n",
       "      <td>10</td>\n",
       "    </tr>\n",
       "  </tbody>\n",
       "</table>\n",
       "</div>"
      ],
      "text/plain": [
       "                           winner player_of_match  win_by_wickets\n",
       "id                                                               \n",
       "3           Kolkata Knight Riders         CA Lynn              10\n",
       "35                Kings XI Punjab  Sandeep Sharma              10\n",
       "72                Deccan Chargers    AC Gilchrist              10\n",
       "120              Delhi Daredevils      DL Vettori              10\n",
       "184   Royal Challengers Bangalore       JH Kallis              10\n",
       "299              Rajasthan Royals       SR Watson              10\n",
       "377                Mumbai Indians        DR Smith              10\n",
       "391           Chennai Super Kings      MEK Hussey              10\n",
       "543   Royal Challengers Bangalore        VR Aaron              10\n",
       "591           Sunrisers Hyderabad         B Kumar              10\n",
       "7941  Royal Challengers Bangalore        UT Yadav              10"
      ]
     },
     "execution_count": 113,
     "metadata": {},
     "output_type": "execute_result"
    }
   ],
   "source": [
    "df_mat[df_mat.win_by_wickets==10][[\"winner\", \"player_of_match\", \"win_by_wickets\"]]"
   ]
  },
  {
   "cell_type": "markdown",
   "metadata": {},
   "source": [
    "These were the teams who won the match by maximum wickets **10**."
   ]
  },
  {
   "cell_type": "code",
   "execution_count": 114,
   "metadata": {},
   "outputs": [
    {
     "data": {
      "image/png": "[encoded data removed]",
      "text/plain": [
       "<Figure size 864x432 with 1 Axes>"
      ]
     },
     "metadata": {},
     "output_type": "display_data"
    }
   ],
   "source": [
    "plt.title(\"Top 10 Player\", fontsize=30)\n",
    "sns.set_palette(\"CMRmap_r\")\n",
    "ax = df_mat.player_of_match.value_counts().iloc[0:10].plot(kind=\"bar\")\n",
    "per_on_bar(ax, df_mat.player_of_match)\n",
    "plt.show()"
   ]
  },
  {
   "cell_type": "code",
   "execution_count": 115,
   "metadata": {},
   "outputs": [
    {
     "data": {
      "image/png": "[encoded data removed]",
      "text/plain": [
       "<Figure size 864x432 with 1 Axes>"
      ]
     },
     "metadata": {},
     "output_type": "display_data"
    }
   ],
   "source": [
    "plt.title(\"Top 10 Umpire\", fontsize=30)\n",
    "ax = df_mat.umpire1.value_counts().iloc[0:10].plot(kind=\"bar\")"
   ]
  },
  {
   "cell_type": "code",
   "execution_count": null,
   "metadata": {},
   "outputs": [],
   "source": []
  }
 ],
 "metadata": {
  "kernelspec": {
   "display_name": "Python 3",
   "language": "python",
   "name": "python3"
  },
  "language_info": {
   "codemirror_mode": {
    "name": "ipython",
    "version": 3
   },
   "file_extension": ".py",
   "mimetype": "text/x-python",
   "name": "python",
   "nbconvert_exporter": "python",
   "pygments_lexer": "ipython3",
   "version": "3.8.5"
  }
 },
 "nbformat": 4,
 "nbformat_minor": 4
}
